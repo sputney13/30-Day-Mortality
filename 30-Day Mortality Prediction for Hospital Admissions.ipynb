{
 "cells": [
  {
   "cell_type": "markdown",
   "metadata": {},
   "source": [
    "<h1><center>30-Day Mortality Prediction for Hospital Admissions</center></h1>\n",
    "<h2><center>BME590 Data Science and Health Final Project</center></h2>"
   ]
  },
  {
   "cell_type": "markdown",
   "metadata": {},
   "source": [
    "This project is hosted on GitHub at: https://github.com/sputney13/30-Day-Mortality"
   ]
  },
  {
   "cell_type": "markdown",
   "metadata": {},
   "source": [
    "## Overview & Background"
   ]
  },
  {
   "cell_type": "markdown",
   "metadata": {},
   "source": [
    "The 30-day mortality rate is one measure used to compare hospital's effectiveness of care. It is an estimate of the proportion of patients that die within 30 days of being admitted to the hospital for a specific condition. The death can be for any reason, and can occur after patient discharge. This measure uses 30 days as the cutoff for mortality because after 30 days, deaths are less likely to be caused by hospital care and more likely to be caused by other illnesses, the patient's behaviors, or other sources of care. Some calculations of 30-day mortality rate (for example, the rates computed by the Centers for Medicare and Medicare Services) adjust for the risk of patient death prior to hospital admission, including age and prior conditions / comorbidities that increase the likelihood of death.\n",
    "\n",
    "The 30-day mortality rate is considered an \"outcome of care\" measure, in that it provides an indication to patients, physicians, and regulatory bodies of how well a hospital prevents further complications, educates patients about their health needs, and helps patients transition out of hospital care. A hospital should aim to lower this rate to ensure that quality of patient care is improved while simultaneously ensuring that patients do not spend more time in the hospital than medically necessary. Therefore, it is to a hospital's advantage to identify patients at risk of 30 day mortality early during their hospital stay in order to provide more attentive and personalized care and ideally lower their risk.\n",
    "\n",
    "This project will utilize data from the MIMIC-III Clinical Database, a database containing health data for over forty thousand patients who stayed in critical care units of the Beth Israel Deaconess Medical Center between 2001 and 2012. Each eligible admission will be flagged if the patient died within 30 days of the admission date, and various factors in the patients' stay will serve as variables for fitting a predictive model to the data. Because a predictive model for 30-day mortality is primarily useful in the early stage of an admission (before an at-risk patient would die), data used as variables for modeling was limited to static information obtained at the patient's admission time. Though other data obtained within the first 24 hours of a patient's stay (for example, chart data or lab results) may also prove predictive of 30-day mortality rate, the purpose of this model is to attempt to flag new admissions as likely (or unlikely) to die within 30 days of admission at the moment they are admitted to the hospital. Assessment of the model will consider its ROC-AUC score, average precision, and accuracy. A useful model will have an accuracy higher than proportion of admissions in the data that did not result in patient death within 30 days (that is, the model will perform better than random chance). For the admissions included in this model, the 30-day mortality rate was 13.6%, so the accuracy benchmark for my model will be 86.4%."
   ]
  },
  {
   "cell_type": "markdown",
   "metadata": {},
   "source": [
    "## Data"
   ]
  },
  {
   "cell_type": "markdown",
   "metadata": {},
   "source": [
    "Each admission will be considered its own data point when coding for the binary classification of death within 30 days of admission date or not. To this end, the variables considered for use in the model should be accessible per admission in the admissions table (ADMISSIONS.CSV). Variables of interest include admission type, patient insurance, ethnicity, and marital status (from the admissions table), ICD-9 codes converted to CCS Categories associated with the admission (from the diagnoses ICD table), patient gender and age (from the patients table), and the (first) type of ICU admitted to, if a patient is transferred to an ICU within 3 hours of their admission. (from the ICU stays table)."
   ]
  },
  {
   "cell_type": "code",
   "execution_count": 1,
   "metadata": {
    "scrolled": true
   },
   "outputs": [],
   "source": [
    "import pandas as pd\n",
    "import numpy as np\n",
    "\n",
    "admissions_df = pd.read_csv(\"./data/ADMISSIONS.csv\")\n",
    "patients_df = pd.read_csv(\"./data/PATIENTS.csv\")\n",
    "diagnosis_df = pd.read_csv(\"./data/DIAGNOSES_ICD.csv\")\n",
    "icu_df = pd.read_csv(\"./data/ICUSTAYS.csv\")"
   ]
  },
  {
   "cell_type": "markdown",
   "metadata": {},
   "source": [
    "### Admissions"
   ]
  },
  {
   "cell_type": "markdown",
   "metadata": {},
   "source": [
    "I will begin by cleaning the admissions table, since we will merge all other relavent data into this table."
   ]
  },
  {
   "cell_type": "code",
   "execution_count": 2,
   "metadata": {
    "scrolled": true
   },
   "outputs": [
    {
     "data": {
      "text/plain": [
       "Index(['ROW_ID', 'SUBJECT_ID', 'HADM_ID', 'ADMITTIME', 'DISCHTIME',\n",
       "       'DEATHTIME', 'ADMISSION_TYPE', 'ADMISSION_LOCATION',\n",
       "       'DISCHARGE_LOCATION', 'INSURANCE', 'LANGUAGE', 'RELIGION',\n",
       "       'MARITAL_STATUS', 'ETHNICITY', 'EDREGTIME', 'EDOUTTIME', 'DIAGNOSIS',\n",
       "       'HOSPITAL_EXPIRE_FLAG', 'HAS_CHARTEVENTS_DATA'],\n",
       "      dtype='object')"
      ]
     },
     "execution_count": 2,
     "metadata": {},
     "output_type": "execute_result"
    }
   ],
   "source": [
    "admissions_df.columns"
   ]
  },
  {
   "cell_type": "markdown",
   "metadata": {},
   "source": [
    "The columns of interest from the admissions dataframe are Subject ID and Hospital Admission ID (for use in joining dataframes later), admit time (to calculate 30-day mortality from), and admission type, insurance, marital status, and ethnicity (for use as variables in the model). Note that death time is not useful here because it only accounts for in-hospital deaths. Language and religion are excluded from variable use due to the large proportion of null/missing values that cannot be reasonably inferred."
   ]
  },
  {
   "cell_type": "code",
   "execution_count": 3,
   "metadata": {
    "scrolled": true
   },
   "outputs": [],
   "source": [
    "admissions_df.drop(['DISCHTIME', 'DEATHTIME', 'ADMISSION_LOCATION', 'DISCHARGE_LOCATION', \"LANGUAGE\", \"RELIGION\", 'EDREGTIME', 'EDOUTTIME', 'DIAGNOSIS', 'HOSPITAL_EXPIRE_FLAG', 'HAS_CHARTEVENTS_DATA'], axis = 1, inplace=True)"
   ]
  },
  {
   "cell_type": "code",
   "execution_count": 4,
   "metadata": {
    "scrolled": true
   },
   "outputs": [
    {
     "data": {
      "text/plain": [
       "ROW_ID             int64\n",
       "SUBJECT_ID         int64\n",
       "HADM_ID            int64\n",
       "ADMITTIME         object\n",
       "ADMISSION_TYPE    object\n",
       "INSURANCE         object\n",
       "MARITAL_STATUS    object\n",
       "ETHNICITY         object\n",
       "dtype: object"
      ]
     },
     "execution_count": 4,
     "metadata": {},
     "output_type": "execute_result"
    }
   ],
   "source": [
    "admissions_df.dtypes"
   ]
  },
  {
   "cell_type": "code",
   "execution_count": 5,
   "metadata": {
    "scrolled": true
   },
   "outputs": [],
   "source": [
    "admissions_df['ADMITTIME'] = pd.to_datetime(admissions_df['ADMITTIME'])"
   ]
  },
  {
   "cell_type": "code",
   "execution_count": 6,
   "metadata": {
    "scrolled": true
   },
   "outputs": [
    {
     "data": {
      "text/plain": [
       "EMERGENCY    42071\n",
       "NEWBORN       7863\n",
       "ELECTIVE      7706\n",
       "URGENT        1336\n",
       "Name: ADMISSION_TYPE, dtype: int64"
      ]
     },
     "execution_count": 6,
     "metadata": {},
     "output_type": "execute_result"
    }
   ],
   "source": [
    "admissions_df['ADMISSION_TYPE'].value_counts()"
   ]
  },
  {
   "cell_type": "markdown",
   "metadata": {},
   "source": [
    "Admission types codified as 'NEWBORN' are hospital stays related to the patient's birth. The 30-day infant mortality rate for infants that are merely born in a hospital and then released is less likely to be predicted by hospital factors than the rate for adults, so the admissions data related to hospital births will not be included when training the model. Howevever, young patients admitted under the emergency, elective, or urgent banners will be included."
   ]
  },
  {
   "cell_type": "code",
   "execution_count": 7,
   "metadata": {
    "scrolled": true
   },
   "outputs": [
    {
     "data": {
      "text/plain": [
       "EMERGENCY    42071\n",
       "ELECTIVE      7706\n",
       "URGENT        1336\n",
       "Name: ADMISSION_TYPE, dtype: int64"
      ]
     },
     "execution_count": 7,
     "metadata": {},
     "output_type": "execute_result"
    }
   ],
   "source": [
    "admissions_df = admissions_df[admissions_df['ADMISSION_TYPE'] != 'NEWBORN']\n",
    "admissions_df['ADMISSION_TYPE'].value_counts()"
   ]
  },
  {
   "cell_type": "code",
   "execution_count": 8,
   "metadata": {
    "scrolled": true
   },
   "outputs": [
    {
     "data": {
      "text/plain": [
       "WHITE                                                       36222\n",
       "BLACK/AFRICAN AMERICAN                                       4570\n",
       "UNKNOWN/NOT SPECIFIED                                        4075\n",
       "HISPANIC OR LATINO                                           1324\n",
       "OTHER                                                        1144\n",
       "ASIAN                                                         793\n",
       "UNABLE TO OBTAIN                                              781\n",
       "PATIENT DECLINED TO ANSWER                                    450\n",
       "ASIAN - CHINESE                                               239\n",
       "HISPANIC/LATINO - PUERTO RICAN                                226\n",
       "BLACK/CAPE VERDEAN                                            175\n",
       "WHITE - RUSSIAN                                               164\n",
       "MULTI RACE ETHNICITY                                          104\n",
       "BLACK/HAITIAN                                                  98\n",
       "ASIAN - ASIAN INDIAN                                           81\n",
       "HISPANIC/LATINO - DOMINICAN                                    77\n",
       "WHITE - OTHER EUROPEAN                                         76\n",
       "PORTUGUESE                                                     58\n",
       "WHITE - BRAZILIAN                                              56\n",
       "ASIAN - VIETNAMESE                                             47\n",
       "BLACK/AFRICAN                                                  40\n",
       "MIDDLE EASTERN                                                 40\n",
       "HISPANIC/LATINO - GUATEMALAN                                   39\n",
       "ASIAN - FILIPINO                                               24\n",
       "AMERICAN INDIAN/ALASKA NATIVE                                  24\n",
       "HISPANIC/LATINO - CUBAN                                        24\n",
       "WHITE - EASTERN EUROPEAN                                       24\n",
       "HISPANIC/LATINO - SALVADORAN                                   18\n",
       "ASIAN - CAMBODIAN                                              17\n",
       "NATIVE HAWAIIAN OR OTHER PACIFIC ISLANDER                      15\n",
       "ASIAN - KOREAN                                                 12\n",
       "ASIAN - OTHER                                                  12\n",
       "HISPANIC/LATINO - CENTRAL AMERICAN (OTHER)                     11\n",
       "HISPANIC/LATINO - MEXICAN                                      11\n",
       "HISPANIC/LATINO - COLOMBIAN                                     9\n",
       "CARIBBEAN ISLAND                                                9\n",
       "SOUTH AMERICAN                                                  7\n",
       "ASIAN - JAPANESE                                                6\n",
       "ASIAN - THAI                                                    4\n",
       "HISPANIC/LATINO - HONDURAN                                      4\n",
       "AMERICAN INDIAN/ALASKA NATIVE FEDERALLY RECOGNIZED TRIBE        3\n",
       "Name: ETHNICITY, dtype: int64"
      ]
     },
     "execution_count": 8,
     "metadata": {},
     "output_type": "execute_result"
    }
   ],
   "source": [
    "admissions_df[\"ETHNICITY\"].value_counts()"
   ]
  },
  {
   "cell_type": "markdown",
   "metadata": {},
   "source": [
    "To simplify the diverse ethnicities recorded for patients in the database, ethnicity data will be condensed into the following categories: White, Black, Hispanic/Latino, Asian, and Other."
   ]
  },
  {
   "cell_type": "code",
   "execution_count": 9,
   "metadata": {},
   "outputs": [
    {
     "data": {
      "text/plain": [
       "WHITE              36542\n",
       "OTHER/UNKNOWN       6710\n",
       "BLACK               4883\n",
       "HISPANIC/LATINO     1743\n",
       "ASIAN               1235\n",
       "Name: ETHNICITY, dtype: int64"
      ]
     },
     "execution_count": 9,
     "metadata": {},
     "output_type": "execute_result"
    }
   ],
   "source": [
    "admissions_df.loc[admissions_df['ETHNICITY'].str.contains('WHITE'), 'ETHNICITY'] = 'WHITE'\n",
    "admissions_df.loc[admissions_df['ETHNICITY'].str.contains('BLACK'), 'ETHNICITY'] = 'BLACK'\n",
    "admissions_df.loc[admissions_df['ETHNICITY'].str.contains('HISPANIC'), 'ETHNICITY'] = 'HISPANIC/LATINO'\n",
    "admissions_df.loc[admissions_df['ETHNICITY'].str.contains('ASIAN'), 'ETHNICITY'] = 'ASIAN'\n",
    "admissions_df['ETHNICITY'].where(admissions_df['ETHNICITY'].isin(['WHITE', 'BLACK', 'HISPANIC/LATINO', 'ASIAN']), 'OTHER/UNKNOWN', inplace=True)\n",
    "admissions_df['ETHNICITY'].value_counts()"
   ]
  },
  {
   "cell_type": "code",
   "execution_count": 10,
   "metadata": {},
   "outputs": [
    {
     "data": {
      "text/plain": [
       "MARRIED              24236\n",
       "SINGLE               12950\n",
       "WIDOWED               7211\n",
       "DIVORCED              3213\n",
       "SEPARATED              571\n",
       "UNKNOWN (DEFAULT)      343\n",
       "LIFE PARTNER            15\n",
       "Name: MARITAL_STATUS, dtype: int64"
      ]
     },
     "execution_count": 10,
     "metadata": {},
     "output_type": "execute_result"
    }
   ],
   "source": [
    "admissions_df['MARITAL_STATUS'].value_counts()"
   ]
  },
  {
   "cell_type": "code",
   "execution_count": 11,
   "metadata": {},
   "outputs": [
    {
     "data": {
      "text/plain": [
       "MARRIED         24236\n",
       "SINGLE          12950\n",
       "WIDOWED          7211\n",
       "DIVORCED         3213\n",
       "UNKNOWN          2917\n",
       "SEPARATED         571\n",
       "LIFE PARTNER       15\n",
       "Name: MARITAL_STATUS, dtype: int64"
      ]
     },
     "execution_count": 11,
     "metadata": {},
     "output_type": "execute_result"
    }
   ],
   "source": [
    "# replace null values in marital status column with \"UNKNOWN\"\n",
    "admissions_df['MARITAL_STATUS'] = admissions_df['MARITAL_STATUS'].replace('UNKNOWN (DEFAULT)', 'UNKNOWN')\n",
    "admissions_df['MARITAL_STATUS'] = admissions_df['MARITAL_STATUS'].fillna('UNKNOWN')\n",
    "admissions_df['MARITAL_STATUS'].value_counts()"
   ]
  },
  {
   "cell_type": "code",
   "execution_count": 12,
   "metadata": {},
   "outputs": [
    {
     "data": {
      "text/plain": [
       "ROW_ID                     int64\n",
       "SUBJECT_ID                 int64\n",
       "HADM_ID                    int64\n",
       "ADMITTIME         datetime64[ns]\n",
       "ADMISSION_TYPE            object\n",
       "INSURANCE                 object\n",
       "MARITAL_STATUS            object\n",
       "ETHNICITY                 object\n",
       "dtype: object"
      ]
     },
     "execution_count": 12,
     "metadata": {},
     "output_type": "execute_result"
    }
   ],
   "source": [
    "admissions_df.dtypes"
   ]
  },
  {
   "cell_type": "markdown",
   "metadata": {},
   "source": [
    "The admissions dataframe now contains the following information:\n",
    "Subject IDs and Hospital IDs for joining data in different tables, admit times (as a datetime data type), admission type (3 string options), insurance (5 string options), marital status (7 string options), and ethnicity (5 string options). For these string-type variables, I will utilize One-Hot Encoding to convert each option into its own variable with a binary classification. However, I will perform this step in the modeling phase, to ease in exploratory data analysis."
   ]
  },
  {
   "cell_type": "markdown",
   "metadata": {},
   "source": [
    "### Patients"
   ]
  },
  {
   "cell_type": "code",
   "execution_count": 13,
   "metadata": {},
   "outputs": [
    {
     "data": {
      "text/plain": [
       "Index(['ROW_ID', 'SUBJECT_ID', 'GENDER', 'DOB', 'DOD', 'DOD_HOSP', 'DOD_SSN',\n",
       "       'EXPIRE_FLAG'],\n",
       "      dtype='object')"
      ]
     },
     "execution_count": 13,
     "metadata": {},
     "output_type": "execute_result"
    }
   ],
   "source": [
    "patients_df.columns"
   ]
  },
  {
   "cell_type": "markdown",
   "metadata": {},
   "source": [
    "The columns of interest in the patients dataframe are Subject ID (to use in merging tables), DOD (Date of Death - to calculate whether or not there was 30 day mortality), Gender, and DOB (Date of Birth - to calculate age at time of admission)."
   ]
  },
  {
   "cell_type": "code",
   "execution_count": 14,
   "metadata": {},
   "outputs": [],
   "source": [
    "patients_df[['DOB','DOD']] = patients_df[['DOB','DOD']].apply(pd.to_datetime)"
   ]
  },
  {
   "cell_type": "code",
   "execution_count": 15,
   "metadata": {},
   "outputs": [
    {
     "data": {
      "text/plain": [
       "ROW_ID                  int64\n",
       "SUBJECT_ID              int64\n",
       "GENDER                 object\n",
       "DOB            datetime64[ns]\n",
       "DOD            datetime64[ns]\n",
       "DOD_HOSP               object\n",
       "DOD_SSN                object\n",
       "EXPIRE_FLAG             int64\n",
       "dtype: object"
      ]
     },
     "execution_count": 15,
     "metadata": {},
     "output_type": "execute_result"
    }
   ],
   "source": [
    "patients_df.dtypes"
   ]
  },
  {
   "cell_type": "markdown",
   "metadata": {},
   "source": [
    "The relevant data from the patients table should be left-joined onto the admissions table on the Subject ID column. The DOB column can then be converted into an Age (at time of admission) column."
   ]
  },
  {
   "cell_type": "code",
   "execution_count": 16,
   "metadata": {},
   "outputs": [
    {
     "data": {
      "text/html": [
       "<div>\n",
       "<style scoped>\n",
       "    .dataframe tbody tr th:only-of-type {\n",
       "        vertical-align: middle;\n",
       "    }\n",
       "\n",
       "    .dataframe tbody tr th {\n",
       "        vertical-align: top;\n",
       "    }\n",
       "\n",
       "    .dataframe thead th {\n",
       "        text-align: right;\n",
       "    }\n",
       "</style>\n",
       "<table border=\"1\" class=\"dataframe\">\n",
       "  <thead>\n",
       "    <tr style=\"text-align: right;\">\n",
       "      <th></th>\n",
       "      <th>ROW_ID</th>\n",
       "      <th>SUBJECT_ID</th>\n",
       "      <th>HADM_ID</th>\n",
       "      <th>ADMITTIME</th>\n",
       "      <th>ADMISSION_TYPE</th>\n",
       "      <th>INSURANCE</th>\n",
       "      <th>MARITAL_STATUS</th>\n",
       "      <th>ETHNICITY</th>\n",
       "      <th>GENDER</th>\n",
       "      <th>DOB</th>\n",
       "      <th>DOD</th>\n",
       "    </tr>\n",
       "  </thead>\n",
       "  <tbody>\n",
       "    <tr>\n",
       "      <th>0</th>\n",
       "      <td>21</td>\n",
       "      <td>22</td>\n",
       "      <td>165315</td>\n",
       "      <td>2196-04-09 12:26:00</td>\n",
       "      <td>EMERGENCY</td>\n",
       "      <td>Private</td>\n",
       "      <td>MARRIED</td>\n",
       "      <td>WHITE</td>\n",
       "      <td>F</td>\n",
       "      <td>2131-05-07</td>\n",
       "      <td>NaT</td>\n",
       "    </tr>\n",
       "    <tr>\n",
       "      <th>1</th>\n",
       "      <td>22</td>\n",
       "      <td>23</td>\n",
       "      <td>152223</td>\n",
       "      <td>2153-09-03 07:15:00</td>\n",
       "      <td>ELECTIVE</td>\n",
       "      <td>Medicare</td>\n",
       "      <td>MARRIED</td>\n",
       "      <td>WHITE</td>\n",
       "      <td>M</td>\n",
       "      <td>2082-07-17</td>\n",
       "      <td>NaT</td>\n",
       "    </tr>\n",
       "    <tr>\n",
       "      <th>2</th>\n",
       "      <td>23</td>\n",
       "      <td>23</td>\n",
       "      <td>124321</td>\n",
       "      <td>2157-10-18 19:34:00</td>\n",
       "      <td>EMERGENCY</td>\n",
       "      <td>Medicare</td>\n",
       "      <td>MARRIED</td>\n",
       "      <td>WHITE</td>\n",
       "      <td>M</td>\n",
       "      <td>2082-07-17</td>\n",
       "      <td>NaT</td>\n",
       "    </tr>\n",
       "    <tr>\n",
       "      <th>3</th>\n",
       "      <td>24</td>\n",
       "      <td>24</td>\n",
       "      <td>161859</td>\n",
       "      <td>2139-06-06 16:14:00</td>\n",
       "      <td>EMERGENCY</td>\n",
       "      <td>Private</td>\n",
       "      <td>SINGLE</td>\n",
       "      <td>WHITE</td>\n",
       "      <td>M</td>\n",
       "      <td>2100-05-31</td>\n",
       "      <td>NaT</td>\n",
       "    </tr>\n",
       "    <tr>\n",
       "      <th>4</th>\n",
       "      <td>25</td>\n",
       "      <td>25</td>\n",
       "      <td>129635</td>\n",
       "      <td>2160-11-02 02:06:00</td>\n",
       "      <td>EMERGENCY</td>\n",
       "      <td>Private</td>\n",
       "      <td>MARRIED</td>\n",
       "      <td>WHITE</td>\n",
       "      <td>M</td>\n",
       "      <td>2101-11-21</td>\n",
       "      <td>NaT</td>\n",
       "    </tr>\n",
       "  </tbody>\n",
       "</table>\n",
       "</div>"
      ],
      "text/plain": [
       "   ROW_ID  SUBJECT_ID  HADM_ID           ADMITTIME ADMISSION_TYPE INSURANCE  \\\n",
       "0      21          22   165315 2196-04-09 12:26:00      EMERGENCY   Private   \n",
       "1      22          23   152223 2153-09-03 07:15:00       ELECTIVE  Medicare   \n",
       "2      23          23   124321 2157-10-18 19:34:00      EMERGENCY  Medicare   \n",
       "3      24          24   161859 2139-06-06 16:14:00      EMERGENCY   Private   \n",
       "4      25          25   129635 2160-11-02 02:06:00      EMERGENCY   Private   \n",
       "\n",
       "  MARITAL_STATUS ETHNICITY GENDER        DOB DOD  \n",
       "0        MARRIED     WHITE      F 2131-05-07 NaT  \n",
       "1        MARRIED     WHITE      M 2082-07-17 NaT  \n",
       "2        MARRIED     WHITE      M 2082-07-17 NaT  \n",
       "3         SINGLE     WHITE      M 2100-05-31 NaT  \n",
       "4        MARRIED     WHITE      M 2101-11-21 NaT  "
      ]
     },
     "execution_count": 16,
     "metadata": {},
     "output_type": "execute_result"
    }
   ],
   "source": [
    "admissions_df = pd.merge(admissions_df, patients_df[[\"SUBJECT_ID\", \"GENDER\", \"DOB\", \"DOD\"]], on=\"SUBJECT_ID\", how=\"left\")\n",
    "admissions_df.head()"
   ]
  },
  {
   "cell_type": "markdown",
   "metadata": {},
   "source": [
    "To comply with HIPPA guidelines, the MIMIC-III database adjusted DOB values for patients over the age of 89 to limit the likelihood of patient identification. These adjustments were made to approximately 300 years after the admission date. To address this quirk, patient age will be separated into deciles and assigned an integer value- for example, ages [10-20) will be coded with a 1 and ages [20-30) will be coded with a 2. The last group will be ages 90 and up."
   ]
  },
  {
   "cell_type": "code",
   "execution_count": 17,
   "metadata": {},
   "outputs": [],
   "source": [
    "admissions_df['DOB'] = np.abs(admissions_df['ADMITTIME'].subtract(admissions_df['DOB']).dt.days / 365)\n",
    "admissions_df = admissions_df.rename(columns={\"DOB\": \"AGE\"})"
   ]
  },
  {
   "cell_type": "code",
   "execution_count": 18,
   "metadata": {},
   "outputs": [
    {
     "data": {
      "text/plain": [
       "6.0    10616\n",
       "7.0    10450\n",
       "5.0     8882\n",
       "8.0     7683\n",
       "4.0     5467\n",
       "3.0     2716\n",
       "9.0     2616\n",
       "2.0     2049\n",
       "1.0      387\n",
       "0.0      247\n",
       "Name: AGE, dtype: int64"
      ]
     },
     "execution_count": 18,
     "metadata": {},
     "output_type": "execute_result"
    }
   ],
   "source": [
    "admissions_df['AGE'] = np.where(admissions_df['AGE'] < 10, 0, admissions_df['AGE'])\n",
    "admissions_df['AGE'] = np.where(admissions_df['AGE'].between(10.0,20.0), 1, admissions_df['AGE'])\n",
    "admissions_df['AGE'] = np.where(admissions_df['AGE'].between(20.0,30.0), 2, admissions_df['AGE'])\n",
    "admissions_df['AGE'] = np.where(admissions_df['AGE'].between(30.0,40.0), 3, admissions_df['AGE'])\n",
    "admissions_df['AGE'] = np.where(admissions_df['AGE'].between(40.0,50.0), 4, admissions_df['AGE'])\n",
    "admissions_df['AGE'] = np.where(admissions_df['AGE'].between(50.0,60.0), 5, admissions_df['AGE'])\n",
    "admissions_df['AGE'] = np.where(admissions_df['AGE'].between(60.0,70.0), 6, admissions_df['AGE'])\n",
    "admissions_df['AGE'] = np.where(admissions_df['AGE'].between(70.0,80.0), 7, admissions_df['AGE'])\n",
    "admissions_df['AGE'] = np.where(admissions_df['AGE'].between(80.0,90.0), 8, admissions_df['AGE'])\n",
    "admissions_df['AGE'] = np.where(admissions_df['AGE'] > 90, 9, admissions_df['AGE'])\n",
    "admissions_df['AGE'].value_counts()"
   ]
  },
  {
   "cell_type": "markdown",
   "metadata": {},
   "source": [
    "### Creating the 30-Day Mortality Label"
   ]
  },
  {
   "cell_type": "markdown",
   "metadata": {},
   "source": [
    "Admissions that do not have a DOD listed, or whose DOD did not occur within 30 days of the admit time, will be flagged with a 0, and those with a 30-day mortality will be flagged with a 1."
   ]
  },
  {
   "cell_type": "code",
   "execution_count": 19,
   "metadata": {},
   "outputs": [
    {
     "data": {
      "text/plain": [
       "0.0    44182\n",
       "1.0     6931\n",
       "Name: 30_DAY_MORT, dtype: int64"
      ]
     },
     "execution_count": 19,
     "metadata": {},
     "output_type": "execute_result"
    }
   ],
   "source": [
    "admissions_df['30_DAY_MORT'] = np.zeros(admissions_df.shape[0])\n",
    "admissions_df['30_DAY_MORT'] = np.where((admissions_df['DOD'].subtract(admissions_df['ADMITTIME'])).dt.days < 30, 1, admissions_df['30_DAY_MORT'])\n",
    "admissions_df['30_DAY_MORT'].value_counts()"
   ]
  },
  {
   "cell_type": "markdown",
   "metadata": {},
   "source": [
    "13.6% of admissions resulted in 30-day mortality. Therefore, the benchmark for my model is 86.4% accuracy, or, the accuracy that would be achieved by predicting no mortality for each admission."
   ]
  },
  {
   "cell_type": "code",
   "execution_count": 20,
   "metadata": {},
   "outputs": [
    {
     "data": {
      "text/html": [
       "<div>\n",
       "<style scoped>\n",
       "    .dataframe tbody tr th:only-of-type {\n",
       "        vertical-align: middle;\n",
       "    }\n",
       "\n",
       "    .dataframe tbody tr th {\n",
       "        vertical-align: top;\n",
       "    }\n",
       "\n",
       "    .dataframe thead th {\n",
       "        text-align: right;\n",
       "    }\n",
       "</style>\n",
       "<table border=\"1\" class=\"dataframe\">\n",
       "  <thead>\n",
       "    <tr style=\"text-align: right;\">\n",
       "      <th></th>\n",
       "      <th>HADM_ID</th>\n",
       "      <th>ADMITTIME</th>\n",
       "      <th>ADMISSION_TYPE</th>\n",
       "      <th>INSURANCE</th>\n",
       "      <th>MARITAL_STATUS</th>\n",
       "      <th>ETHNICITY</th>\n",
       "      <th>GENDER</th>\n",
       "      <th>AGE</th>\n",
       "      <th>30_DAY_MORT</th>\n",
       "    </tr>\n",
       "  </thead>\n",
       "  <tbody>\n",
       "    <tr>\n",
       "      <th>0</th>\n",
       "      <td>165315</td>\n",
       "      <td>2196-04-09 12:26:00</td>\n",
       "      <td>EMERGENCY</td>\n",
       "      <td>Private</td>\n",
       "      <td>MARRIED</td>\n",
       "      <td>WHITE</td>\n",
       "      <td>F</td>\n",
       "      <td>6.0</td>\n",
       "      <td>0.0</td>\n",
       "    </tr>\n",
       "    <tr>\n",
       "      <th>1</th>\n",
       "      <td>152223</td>\n",
       "      <td>2153-09-03 07:15:00</td>\n",
       "      <td>ELECTIVE</td>\n",
       "      <td>Medicare</td>\n",
       "      <td>MARRIED</td>\n",
       "      <td>WHITE</td>\n",
       "      <td>M</td>\n",
       "      <td>7.0</td>\n",
       "      <td>0.0</td>\n",
       "    </tr>\n",
       "    <tr>\n",
       "      <th>2</th>\n",
       "      <td>124321</td>\n",
       "      <td>2157-10-18 19:34:00</td>\n",
       "      <td>EMERGENCY</td>\n",
       "      <td>Medicare</td>\n",
       "      <td>MARRIED</td>\n",
       "      <td>WHITE</td>\n",
       "      <td>M</td>\n",
       "      <td>7.0</td>\n",
       "      <td>0.0</td>\n",
       "    </tr>\n",
       "    <tr>\n",
       "      <th>3</th>\n",
       "      <td>161859</td>\n",
       "      <td>2139-06-06 16:14:00</td>\n",
       "      <td>EMERGENCY</td>\n",
       "      <td>Private</td>\n",
       "      <td>SINGLE</td>\n",
       "      <td>WHITE</td>\n",
       "      <td>M</td>\n",
       "      <td>3.0</td>\n",
       "      <td>0.0</td>\n",
       "    </tr>\n",
       "    <tr>\n",
       "      <th>4</th>\n",
       "      <td>129635</td>\n",
       "      <td>2160-11-02 02:06:00</td>\n",
       "      <td>EMERGENCY</td>\n",
       "      <td>Private</td>\n",
       "      <td>MARRIED</td>\n",
       "      <td>WHITE</td>\n",
       "      <td>M</td>\n",
       "      <td>5.0</td>\n",
       "      <td>0.0</td>\n",
       "    </tr>\n",
       "  </tbody>\n",
       "</table>\n",
       "</div>"
      ],
      "text/plain": [
       "   HADM_ID           ADMITTIME ADMISSION_TYPE INSURANCE MARITAL_STATUS  \\\n",
       "0   165315 2196-04-09 12:26:00      EMERGENCY   Private        MARRIED   \n",
       "1   152223 2153-09-03 07:15:00       ELECTIVE  Medicare        MARRIED   \n",
       "2   124321 2157-10-18 19:34:00      EMERGENCY  Medicare        MARRIED   \n",
       "3   161859 2139-06-06 16:14:00      EMERGENCY   Private         SINGLE   \n",
       "4   129635 2160-11-02 02:06:00      EMERGENCY   Private        MARRIED   \n",
       "\n",
       "  ETHNICITY GENDER  AGE  30_DAY_MORT  \n",
       "0     WHITE      F  6.0          0.0  \n",
       "1     WHITE      M  7.0          0.0  \n",
       "2     WHITE      M  7.0          0.0  \n",
       "3     WHITE      M  3.0          0.0  \n",
       "4     WHITE      M  5.0          0.0  "
      ]
     },
     "execution_count": 20,
     "metadata": {},
     "output_type": "execute_result"
    }
   ],
   "source": [
    "admissions_df.drop(['DOD', 'ROW_ID', 'SUBJECT_ID'], axis=1, inplace=True)\n",
    "admissions_df.head()"
   ]
  },
  {
   "cell_type": "markdown",
   "metadata": {},
   "source": [
    "### Diagnosis ICD-9 Codes"
   ]
  },
  {
   "cell_type": "code",
   "execution_count": 21,
   "metadata": {
    "scrolled": true
   },
   "outputs": [
    {
     "data": {
      "text/html": [
       "<div>\n",
       "<style scoped>\n",
       "    .dataframe tbody tr th:only-of-type {\n",
       "        vertical-align: middle;\n",
       "    }\n",
       "\n",
       "    .dataframe tbody tr th {\n",
       "        vertical-align: top;\n",
       "    }\n",
       "\n",
       "    .dataframe thead th {\n",
       "        text-align: right;\n",
       "    }\n",
       "</style>\n",
       "<table border=\"1\" class=\"dataframe\">\n",
       "  <thead>\n",
       "    <tr style=\"text-align: right;\">\n",
       "      <th></th>\n",
       "      <th>ROW_ID</th>\n",
       "      <th>SUBJECT_ID</th>\n",
       "      <th>HADM_ID</th>\n",
       "      <th>SEQ_NUM</th>\n",
       "      <th>ICD9_CODE</th>\n",
       "    </tr>\n",
       "  </thead>\n",
       "  <tbody>\n",
       "    <tr>\n",
       "      <th>0</th>\n",
       "      <td>1297</td>\n",
       "      <td>109</td>\n",
       "      <td>172335</td>\n",
       "      <td>1.0</td>\n",
       "      <td>40301</td>\n",
       "    </tr>\n",
       "    <tr>\n",
       "      <th>1</th>\n",
       "      <td>1298</td>\n",
       "      <td>109</td>\n",
       "      <td>172335</td>\n",
       "      <td>2.0</td>\n",
       "      <td>486</td>\n",
       "    </tr>\n",
       "    <tr>\n",
       "      <th>2</th>\n",
       "      <td>1299</td>\n",
       "      <td>109</td>\n",
       "      <td>172335</td>\n",
       "      <td>3.0</td>\n",
       "      <td>58281</td>\n",
       "    </tr>\n",
       "    <tr>\n",
       "      <th>3</th>\n",
       "      <td>1300</td>\n",
       "      <td>109</td>\n",
       "      <td>172335</td>\n",
       "      <td>4.0</td>\n",
       "      <td>5855</td>\n",
       "    </tr>\n",
       "    <tr>\n",
       "      <th>4</th>\n",
       "      <td>1301</td>\n",
       "      <td>109</td>\n",
       "      <td>172335</td>\n",
       "      <td>5.0</td>\n",
       "      <td>4254</td>\n",
       "    </tr>\n",
       "  </tbody>\n",
       "</table>\n",
       "</div>"
      ],
      "text/plain": [
       "   ROW_ID  SUBJECT_ID  HADM_ID  SEQ_NUM ICD9_CODE\n",
       "0    1297         109   172335      1.0     40301\n",
       "1    1298         109   172335      2.0       486\n",
       "2    1299         109   172335      3.0     58281\n",
       "3    1300         109   172335      4.0      5855\n",
       "4    1301         109   172335      5.0      4254"
      ]
     },
     "execution_count": 21,
     "metadata": {},
     "output_type": "execute_result"
    }
   ],
   "source": [
    "diagnosis_df.head()"
   ]
  },
  {
   "cell_type": "code",
   "execution_count": 22,
   "metadata": {},
   "outputs": [],
   "source": [
    "diagnosis_df.dropna(inplace=True) # any NaN ICD9 codes will not prove useful and are thus being removed"
   ]
  },
  {
   "cell_type": "code",
   "execution_count": 23,
   "metadata": {},
   "outputs": [
    {
     "data": {
      "text/plain": [
       "6984"
      ]
     },
     "execution_count": 23,
     "metadata": {},
     "output_type": "execute_result"
    }
   ],
   "source": [
    "len(pd.unique(diagnosis_df['ICD9_CODE']))"
   ]
  },
  {
   "cell_type": "markdown",
   "metadata": {},
   "source": [
    "To reduce the number of unique ICD9 Codes found in the admissions data down to a number more manageable for prediction (and to reduce the overall sparsity of the data), I will convert all ICD9 Codes into their correspondent ICD-9-CM single level CCS (H-CUP, 2017)."
   ]
  },
  {
   "cell_type": "code",
   "execution_count": 24,
   "metadata": {},
   "outputs": [],
   "source": [
    "# Credit to Michael Gao, Duke BME590 Data Science and Health (Homework 2) for the idea to use CCS categories to lump ICD9 codes\n",
    "ccs_df = pd.read_csv('./data/$dxref 2015.csv', skiprows=1)\n",
    "\n",
    "# Clean column names by removing whitespace and quotes\n",
    "ccs_df.rename(columns=lambda x: x.strip(), inplace=True)\n",
    "ccs_df.rename(columns=lambda x: x.replace(\"'\", \"\"), inplace=True)\n",
    "\n",
    "# Clean data in the ICD9 Codes and CCS category columns by removing whitespace and quotes\n",
    "ccs_df['ICD-9-CM CODE'] = ccs_df['ICD-9-CM CODE'].str.replace(\" \", \"\")\n",
    "ccs_df['ICD-9-CM CODE'] = ccs_df['ICD-9-CM CODE'].str.replace(\"'\", \"\")\n",
    "\n",
    "# CCS Category descriptions were chosen over the more succint numerical category identifiers\n",
    "# because all categories will eventually become their own variable - string titles will improve understandability\n",
    "ccs_df['CCS CATEGORY DESCRIPTION'] = ccs_df['CCS CATEGORY DESCRIPTION'].str.replace(\" \", \"\")\n",
    "ccs_df['CCS CATEGORY DESCRIPTION'] = ccs_df['CCS CATEGORY DESCRIPTION'].str.replace(\"'\", \"\")"
   ]
  },
  {
   "cell_type": "code",
   "execution_count": 25,
   "metadata": {},
   "outputs": [],
   "source": [
    "# left join of ICD9 codes with CCS category\n",
    "diagnosis_df = pd.merge(diagnosis_df, ccs_df[['ICD-9-CM CODE', 'CCS CATEGORY DESCRIPTION']], left_on = ['ICD9_CODE'], right_on = ['ICD-9-CM CODE'], how='left')"
   ]
  },
  {
   "cell_type": "code",
   "execution_count": 26,
   "metadata": {},
   "outputs": [],
   "source": [
    "diagnosis_df.drop(['ROW_ID','SUBJECT_ID', 'SEQ_NUM', 'ICD9_CODE', 'ICD-9-CM CODE'], axis=1, inplace=True)\n",
    "\n",
    "# remove duplicate CCS categories for same admission (multiple ICD9 codes under one category)\n",
    "diagnosis_df.drop_duplicates(inplace=True)"
   ]
  },
  {
   "cell_type": "code",
   "execution_count": 27,
   "metadata": {},
   "outputs": [
    {
     "data": {
      "text/plain": [
       "282"
      ]
     },
     "execution_count": 27,
     "metadata": {},
     "output_type": "execute_result"
    }
   ],
   "source": [
    "len(pd.unique(diagnosis_df['CCS CATEGORY DESCRIPTION']))"
   ]
  },
  {
   "cell_type": "markdown",
   "metadata": {},
   "source": [
    "Using CCS categories reduces the number of unique diagnosis codes in the dataset from nearly 7000 to 282. Reducing the sparsity of the data will assist in the model's predictivity. Later I will merge this data into the admissions table using One-Hot Encoding to convert each option into its own variable with a binary classification. I will then use sklearn's feature selection tools to reduce the number of variables down to the most relevant."
   ]
  },
  {
   "cell_type": "markdown",
   "metadata": {},
   "source": [
    "### ICU Stays"
   ]
  },
  {
   "cell_type": "markdown",
   "metadata": {},
   "source": [
    "The final variable used in the model will be if the patient was admitted to an ICU unit within 3 hours of hospital admission (3 hours is used to allow for a slight delay between recording the patient as entering the hospital and their respective transfer to a bed in an ICU). "
   ]
  },
  {
   "cell_type": "code",
   "execution_count": 28,
   "metadata": {},
   "outputs": [
    {
     "data": {
      "text/plain": [
       "Index(['ROW_ID', 'SUBJECT_ID', 'HADM_ID', 'ICUSTAY_ID', 'DBSOURCE',\n",
       "       'FIRST_CAREUNIT', 'LAST_CAREUNIT', 'FIRST_WARDID', 'LAST_WARDID',\n",
       "       'INTIME', 'OUTTIME', 'LOS'],\n",
       "      dtype='object')"
      ]
     },
     "execution_count": 28,
     "metadata": {},
     "output_type": "execute_result"
    }
   ],
   "source": [
    "icu_df.columns"
   ]
  },
  {
   "cell_type": "code",
   "execution_count": 29,
   "metadata": {},
   "outputs": [],
   "source": [
    "icu_df['INTIME'] = pd.to_datetime(icu_df['INTIME'])"
   ]
  },
  {
   "cell_type": "code",
   "execution_count": 30,
   "metadata": {},
   "outputs": [],
   "source": [
    "admissions_df = pd.merge(admissions_df, icu_df[['HADM_ID', 'FIRST_CAREUNIT', 'INTIME']], on='HADM_ID', how='left')"
   ]
  },
  {
   "cell_type": "code",
   "execution_count": 31,
   "metadata": {},
   "outputs": [],
   "source": [
    "# Patients with NaN values in their ICU stay were not admitted to an ICU during their admission\n",
    "admissions_df['FIRST_CAREUNIT'].fillna(\"NONE\", inplace=True)"
   ]
  },
  {
   "cell_type": "code",
   "execution_count": 32,
   "metadata": {},
   "outputs": [],
   "source": [
    "# if time of ICU admission is not within 3 hours of hospital admission, change ICU unit to \"None\"\n",
    "admissions_df['FIRST_CAREUNIT'] = np.where((admissions_df['INTIME'].subtract(admissions_df['ADMITTIME'])).dt.days > 0.125, \"NONE\", admissions_df['FIRST_CAREUNIT'])"
   ]
  },
  {
   "cell_type": "code",
   "execution_count": 33,
   "metadata": {},
   "outputs": [
    {
     "data": {
      "text/plain": [
       "MICU     16773\n",
       "NONE     14571\n",
       "SICU      6328\n",
       "CCU       5983\n",
       "CSRU      5726\n",
       "TSICU     5151\n",
       "NICU       219\n",
       "Name: FIRST_CAREUNIT, dtype: int64"
      ]
     },
     "execution_count": 33,
     "metadata": {},
     "output_type": "execute_result"
    }
   ],
   "source": [
    "admissions_df['FIRST_CAREUNIT'].value_counts()"
   ]
  },
  {
   "cell_type": "markdown",
   "metadata": {},
   "source": [
    "This gives 7 potential options for the ICU the patient is admitted to within the first 3 hours of their hospital stay: MICU, SICU, CCU, CSRU, TSISCU, NICU, or none."
   ]
  },
  {
   "cell_type": "code",
   "execution_count": 34,
   "metadata": {},
   "outputs": [],
   "source": [
    "admissions_df.drop(['ADMITTIME', 'INTIME'], axis=1, inplace=True)\n",
    "admissions_df.rename(columns={\"FIRST_CAREUNIT\": \"ICU\"}, inplace=True)"
   ]
  },
  {
   "cell_type": "code",
   "execution_count": 35,
   "metadata": {
    "scrolled": true
   },
   "outputs": [
    {
     "data": {
      "text/html": [
       "<div>\n",
       "<style scoped>\n",
       "    .dataframe tbody tr th:only-of-type {\n",
       "        vertical-align: middle;\n",
       "    }\n",
       "\n",
       "    .dataframe tbody tr th {\n",
       "        vertical-align: top;\n",
       "    }\n",
       "\n",
       "    .dataframe thead th {\n",
       "        text-align: right;\n",
       "    }\n",
       "</style>\n",
       "<table border=\"1\" class=\"dataframe\">\n",
       "  <thead>\n",
       "    <tr style=\"text-align: right;\">\n",
       "      <th></th>\n",
       "      <th>HADM_ID</th>\n",
       "      <th>ADMISSION_TYPE</th>\n",
       "      <th>INSURANCE</th>\n",
       "      <th>MARITAL_STATUS</th>\n",
       "      <th>ETHNICITY</th>\n",
       "      <th>GENDER</th>\n",
       "      <th>AGE</th>\n",
       "      <th>30_DAY_MORT</th>\n",
       "      <th>ICU</th>\n",
       "    </tr>\n",
       "  </thead>\n",
       "  <tbody>\n",
       "    <tr>\n",
       "      <th>0</th>\n",
       "      <td>165315</td>\n",
       "      <td>EMERGENCY</td>\n",
       "      <td>Private</td>\n",
       "      <td>MARRIED</td>\n",
       "      <td>WHITE</td>\n",
       "      <td>F</td>\n",
       "      <td>6.0</td>\n",
       "      <td>0.0</td>\n",
       "      <td>MICU</td>\n",
       "    </tr>\n",
       "    <tr>\n",
       "      <th>1</th>\n",
       "      <td>152223</td>\n",
       "      <td>ELECTIVE</td>\n",
       "      <td>Medicare</td>\n",
       "      <td>MARRIED</td>\n",
       "      <td>WHITE</td>\n",
       "      <td>M</td>\n",
       "      <td>7.0</td>\n",
       "      <td>0.0</td>\n",
       "      <td>CSRU</td>\n",
       "    </tr>\n",
       "    <tr>\n",
       "      <th>2</th>\n",
       "      <td>124321</td>\n",
       "      <td>EMERGENCY</td>\n",
       "      <td>Medicare</td>\n",
       "      <td>MARRIED</td>\n",
       "      <td>WHITE</td>\n",
       "      <td>M</td>\n",
       "      <td>7.0</td>\n",
       "      <td>0.0</td>\n",
       "      <td>NONE</td>\n",
       "    </tr>\n",
       "    <tr>\n",
       "      <th>3</th>\n",
       "      <td>161859</td>\n",
       "      <td>EMERGENCY</td>\n",
       "      <td>Private</td>\n",
       "      <td>SINGLE</td>\n",
       "      <td>WHITE</td>\n",
       "      <td>M</td>\n",
       "      <td>3.0</td>\n",
       "      <td>0.0</td>\n",
       "      <td>CCU</td>\n",
       "    </tr>\n",
       "    <tr>\n",
       "      <th>4</th>\n",
       "      <td>129635</td>\n",
       "      <td>EMERGENCY</td>\n",
       "      <td>Private</td>\n",
       "      <td>MARRIED</td>\n",
       "      <td>WHITE</td>\n",
       "      <td>M</td>\n",
       "      <td>5.0</td>\n",
       "      <td>0.0</td>\n",
       "      <td>CCU</td>\n",
       "    </tr>\n",
       "  </tbody>\n",
       "</table>\n",
       "</div>"
      ],
      "text/plain": [
       "   HADM_ID ADMISSION_TYPE INSURANCE MARITAL_STATUS ETHNICITY GENDER  AGE  \\\n",
       "0   165315      EMERGENCY   Private        MARRIED     WHITE      F  6.0   \n",
       "1   152223       ELECTIVE  Medicare        MARRIED     WHITE      M  7.0   \n",
       "2   124321      EMERGENCY  Medicare        MARRIED     WHITE      M  7.0   \n",
       "3   161859      EMERGENCY   Private         SINGLE     WHITE      M  3.0   \n",
       "4   129635      EMERGENCY   Private        MARRIED     WHITE      M  5.0   \n",
       "\n",
       "   30_DAY_MORT   ICU  \n",
       "0          0.0  MICU  \n",
       "1          0.0  CSRU  \n",
       "2          0.0  NONE  \n",
       "3          0.0   CCU  \n",
       "4          0.0   CCU  "
      ]
     },
     "execution_count": 35,
     "metadata": {},
     "output_type": "execute_result"
    }
   ],
   "source": [
    "admissions_df.head()"
   ]
  },
  {
   "cell_type": "markdown",
   "metadata": {},
   "source": [
    "### Summary of Cleaned Data"
   ]
  },
  {
   "cell_type": "markdown",
   "metadata": {},
   "source": [
    "There are two summary matrices that will be further used in data analysis and modeling: admissions_df and diagnosis_df. The admissions table contains the hospital admission ID (for final merging of the two tables), information for the admission type, insurance, marital status, ethnicity, gender, age, and ICU type variables, and the 30-day mortality flag for each admission. The diagnosis table contains the CCS categories registered for each hospital admission.\n",
    "\n",
    "There are 8 categories of variables to test: admission type, insurance type, marital status, ethnicity, gender, age, ICU stay type, and CCS categories listed. Aside from the normalized age brackets, all of these categories are non-numeric and will need to be one hot encoded in order for use in a predictive model. After one hot encoding, there will be 312 variables to test (3 admission types, 5 insurance types, 7 marital statuses, 5 ethnicities, 2 genders, age, 7 ICU stay types, and 282 unique CCS categories). I will test using all variables against using variable selection tools from the sklearn package to limit the variables to those which are most impactful on the predictive model."
   ]
  },
  {
   "cell_type": "markdown",
   "metadata": {},
   "source": [
    "## Exploratory Data Analysis"
   ]
  },
  {
   "cell_type": "code",
   "execution_count": 36,
   "metadata": {},
   "outputs": [],
   "source": [
    "import matplotlib.pyplot as plt\n",
    "%matplotlib inline\n",
    "import seaborn as sns"
   ]
  },
  {
   "cell_type": "markdown",
   "metadata": {},
   "source": [
    "I wanted to view the distribution of the 6 variable categories above that are non-numeric and have a reasonable number of options for plotting purposes. I chose to represent these distributions as labeled slices in 6 individual pie charts. This visualization is useful in noting where there may be sparsity in the variable matrix when performing one hot encoding (one particular example is the 'Life Partner' option in the 'Marital Status' variable, which has such few entries that it registers as 0.0% on the pie chart below). It is also interesting to compare these data to population norms - it appears as though this particular dataset may overrepresent white and male patients compared to the general population. However, this may be indicative that the variable is of interest when prediciting at-risk patients."
   ]
  },
  {
   "cell_type": "code",
   "execution_count": 37,
   "metadata": {},
   "outputs": [
    {
     "data": {
      "image/png": "[encoded data removed]",
      "text/plain": [
       "<Figure size 1080x720 with 6 Axes>"
      ]
     },
     "metadata": {},
     "output_type": "display_data"
    }
   ],
   "source": [
    "fig, axs = plt.subplots(2, 3, figsize=(15,10), constrained_layout=True)\n",
    "\n",
    "fig.suptitle('Proportional Representation of Admissions Variables')\n",
    "\n",
    "axs[0,0].pie(admissions_df['ADMISSION_TYPE'].value_counts(), labels=admissions_df['ADMISSION_TYPE'].value_counts().index, autopct='%1.1f%%')\n",
    "axs[0,0].set_title('Admission Type')\n",
    "\n",
    "axs[0,1].pie(admissions_df['INSURANCE'].value_counts(), labels=admissions_df['INSURANCE'].value_counts().index, autopct='%1.1f%%')\n",
    "axs[0,1].set_title('Insurance Type')\n",
    "\n",
    "axs[0,2].pie(admissions_df['MARITAL_STATUS'].value_counts(), labels=admissions_df['MARITAL_STATUS'].value_counts().index, autopct='%1.1f%%')\n",
    "axs[0,2].set_title('Marital Status')\n",
    "\n",
    "axs[1,0].pie(admissions_df['ETHNICITY'].value_counts(), labels=admissions_df['ETHNICITY'].value_counts().index, autopct='%1.1f%%')\n",
    "axs[1,0].set_title('Ethnicity')\n",
    "\n",
    "axs[1,1].pie(admissions_df['GENDER'].value_counts(), labels=admissions_df['GENDER'].value_counts().index, autopct='%1.1f%%')\n",
    "axs[1,1].set_title('Gender')\n",
    "\n",
    "axs[1,2].pie(admissions_df['ICU'].value_counts(), labels=admissions_df['ICU'].value_counts().index, autopct='%1.1f%%')\n",
    "axs[1,2].set_title('ICU Type (< 3 Hours of Admission)')\n",
    "\n",
    "plt.show()"
   ]
  },
  {
   "cell_type": "markdown",
   "metadata": {},
   "source": [
    "As shown below, age distribution for the admissions data was predictably right-skewed towards patients in larger age-deciles. This right skew is even more pronounced in the admissions that resulted in 30-day mortality, where the peak resides in the 70-80 decile and the 0-10 decile completely disappears."
   ]
  },
  {
   "cell_type": "code",
   "execution_count": 38,
   "metadata": {},
   "outputs": [
    {
     "data": {
      "image/png": "[encoded data removed]",
      "text/plain": [
       "<Figure size 720x360 with 2 Axes>"
      ]
     },
     "metadata": {
      "needs_background": "light"
     },
     "output_type": "display_data"
    }
   ],
   "source": [
    "fig, axs = plt.subplots(1, 2, figsize=(10,5), constrained_layout=True)\n",
    "\n",
    "fig.suptitle('Age Distribution (Years)')\n",
    "\n",
    "axs[0].hist(admissions_df['AGE']*10)\n",
    "axs[0].set_title('All Admissions')\n",
    "\n",
    "flagged_adm = admissions_df.loc[admissions_df['30_DAY_MORT'] == 1]\n",
    "axs[1].hist(flagged_adm['AGE']*10)\n",
    "axs[1].set_title('Admissions with 30-Day Mortality')\n",
    "\n",
    "plt.show()"
   ]
  },
  {
   "cell_type": "markdown",
   "metadata": {},
   "source": [
    "When considering which CCS categories might be most predictive for 30-day patient mortality, I considered the prevalence of each CCS category within the dataset. Categories which are less sparse will most likely be more useful for prediction. The top chart below plots the top 10 most prevalent CCS categories in the entire admissions dataframe versus their prevalence, while the bottom does the same but considering only admissions that resulted in 30-day mortality. The top 6 most prevelant CCS categories in the 30-day mortality plot were also in the top 10 for all admissions, however, positions 7-10 for the 30-day mortality plot were not present in the top 10 for all admissions, indicating that those categories may be variables of interest when differentiating a 30-day mortality admission from other data."
   ]
  },
  {
   "cell_type": "code",
   "execution_count": 39,
   "metadata": {},
   "outputs": [
    {
     "data": {
      "image/png": "[encoded data removed]",
      "text/plain": [
       "<Figure size 1080x720 with 2 Axes>"
      ]
     },
     "metadata": {
      "needs_background": "light"
     },
     "output_type": "display_data"
    }
   ],
   "source": [
    "fig, axs = plt.subplots(2, 1, figsize=(15,10), constrained_layout=True)\n",
    "\n",
    "fig.suptitle('Top 10 Most Prevelant CCS Categories')\n",
    "\n",
    "# group all diagnoses by CCS category, and sort by size in ascending order to select top 10\n",
    "cats_df = pd.DataFrame({'CCS_CATS': diagnosis_df.groupby('CCS CATEGORY DESCRIPTION').size()})\n",
    "values = cats_df['CCS_CATS'].sort_values(ascending=False)[0:10]\n",
    "labels = cats_df['CCS_CATS'].sort_values(ascending=False).index[0:10]\n",
    "\n",
    "axs[0].bar(labels, values)\n",
    "axs[0].set_title('All Admissions')\n",
    "axs[0].set_ylabel('Category Prevelance')\n",
    "\n",
    "# merge in 30-day mortality flag to extract diagnoses for patients with 30-day mortality\n",
    "diag_with_mort = pd.merge(diagnosis_df, admissions_df[['HADM_ID', '30_DAY_MORT']], on='HADM_ID', how='left')\n",
    "diag_with_mort = diag_with_mort.loc[diag_with_mort['30_DAY_MORT'] == 1]\n",
    "\n",
    "# group 30-day mortality diagnoses by CCS category, and sort by size in ascending order to select top 10\n",
    "cats_mort = pd.DataFrame({'CCS_CATS': diag_with_mort.groupby('CCS CATEGORY DESCRIPTION').size()})\n",
    "values = cats_mort['CCS_CATS'].sort_values(ascending=False)[0:10]\n",
    "labels = cats_mort['CCS_CATS'].sort_values(ascending=False).index[0:10]\n",
    "\n",
    "axs[1].bar(labels, values)\n",
    "axs[1].set_title('30-Day Mortality Admissions')\n",
    "axs[1].set_ylabel('Category Prevelance')\n",
    "\n",
    "plt.show()"
   ]
  },
  {
   "cell_type": "markdown",
   "metadata": {},
   "source": [
    "An interesting question is the role ethnicity may play in diagnosis of comorbidities- I questioned whether certain ethnicities were more likely to be dignosed with ICD9 codes in multiple CCS categories. I chose to represent this data as boxplots of the number of unique CCS categories assigned to an admission, grouped into categorical plots by ethnicity. From the admissions dataset, Black patients tended to receive the most unique CCS categories assigned per admission, while patients in the Other/Unknown race category received the least (followed by Asian patients)."
   ]
  },
  {
   "cell_type": "code",
   "execution_count": 40,
   "metadata": {},
   "outputs": [],
   "source": [
    "# find number of CCS categories per admission, merge into a new admissions matrix\n",
    "group_df = pd.DataFrame({'CCS_COUNT': diagnosis_df.groupby('HADM_ID').size()})\n",
    "adm_ccs_count = pd.merge(admissions_df, group_df, on='HADM_ID', how='left')"
   ]
  },
  {
   "cell_type": "code",
   "execution_count": 41,
   "metadata": {},
   "outputs": [
    {
     "data": {
      "image/png": "[encoded data removed]",
      "text/plain": [
       "<Figure size 1080x720 with 5 Axes>"
      ]
     },
     "metadata": {
      "needs_background": "light"
     },
     "output_type": "display_data"
    }
   ],
   "source": [
    "ethnicities = pd.unique(adm_ccs_count['ETHNICITY'])\n",
    "mean = adm_ccs_count.groupby(['ETHNICITY'])['CCS_COUNT'].mean()\n",
    "maxes = adm_ccs_count.groupby(['ETHNICITY'])['CCS_COUNT'].max()\n",
    "\n",
    "# plot CCS count as a box plot, with subplot data grouped by patient ethnicity\n",
    "plot = sns.catplot(y='CCS_COUNT', data=adm_ccs_count, col='ETHNICITY', kind='box', col_wrap=3)\n",
    "for i in range(len(plot.axes)):\n",
    "    ax = plot.axes[i]\n",
    "    ax.set(title=ethnicities[i])\n",
    "    if i is 0 or i is 3:\n",
    "        ax.set(ylabel='# Unique CCS Categories assigned')\n",
    "    ax.axhline(mean[ethnicities[i]], color='red', linestyle='--', label='Mean: {}'.format(round(mean[ethnicities[i]], 2)))\n",
    "    ax.axhline(maxes[ethnicities[i]], color='green', linestyle='--', label='Max: {}'.format(maxes[ethnicities[i]]))    \n",
    "    ax.legend()"
   ]
  },
  {
   "cell_type": "markdown",
   "metadata": {},
   "source": [
    "An additional area of interest is whether number of unique CCS categories assigned per admission also plays a predictive role in whether an admit experiences 30-day mortality. Per the boxplots below, the admits that died within 30 days of their admission date were diagnosed with approximately 2 more unique CCS categories on average than those that did not experience 30 day mortality."
   ]
  },
  {
   "cell_type": "code",
   "execution_count": 42,
   "metadata": {},
   "outputs": [
    {
     "data": {
      "image/png": "[encoded data removed]",
      "text/plain": [
       "<Figure size 720x360 with 2 Axes>"
      ]
     },
     "metadata": {
      "needs_background": "light"
     },
     "output_type": "display_data"
    }
   ],
   "source": [
    "titles= ['No Death Within 30 Days', '30-Day Mortality']\n",
    "mean = adm_ccs_count.groupby(['30_DAY_MORT'])['CCS_COUNT'].mean()\n",
    "maxes = adm_ccs_count.groupby(['30_DAY_MORT'])['CCS_COUNT'].max()\n",
    "\n",
    "# plot CCS count as a box plot, with the 30-day mortality flag used as the subplot grouping\n",
    "plot = sns.catplot(y='CCS_COUNT', data=adm_ccs_count, col='30_DAY_MORT', kind='box')\n",
    "for i in range(len(plot.axes[0])):\n",
    "    a = plot.axes[0][i]\n",
    "    a.set(title=titles[i])\n",
    "    if i is 0:\n",
    "        a.set(ylabel='# Unique CCS Categories assigned')\n",
    "    a.axhline(mean[i], color='red', linestyle='--', label='Mean: {}'.format(round(mean[i], 2)))\n",
    "    a.axhline(maxes[i], color='green', linestyle='--', label='Max: {}'.format(maxes[i]))\n",
    "    a.legend()"
   ]
  },
  {
   "cell_type": "markdown",
   "metadata": {},
   "source": [
    "The exploratory data analysis performed in this section was assistive in creating a greater understanding of the distributions of the variables that may be used in the model, and therefore in understanding which variable types may be too sparse to generate significance in model predictions. It was also useful in elucidating differences in variable values for patients flagged with or without 30-day mortality, which may indicate that those variables may prove more predictive than other options."
   ]
  },
  {
   "cell_type": "markdown",
   "metadata": {},
   "source": [
    "## Modeling"
   ]
  },
  {
   "cell_type": "markdown",
   "metadata": {},
   "source": [
    "### Creating the Model Matrix"
   ]
  },
  {
   "cell_type": "markdown",
   "metadata": {},
   "source": [
    "To prepare the data for model fitting, the admissions and diagnosis tables must be joined, and one hot encoding must be performed on non-numeric categorical variables. The data will be stored as a model matrix and a series of corresponding labels."
   ]
  },
  {
   "cell_type": "code",
   "execution_count": 44,
   "metadata": {
    "scrolled": true
   },
   "outputs": [
    {
     "data": {
      "text/html": [
       "<div>\n",
       "<style scoped>\n",
       "    .dataframe tbody tr th:only-of-type {\n",
       "        vertical-align: middle;\n",
       "    }\n",
       "\n",
       "    .dataframe tbody tr th {\n",
       "        vertical-align: top;\n",
       "    }\n",
       "\n",
       "    .dataframe thead th {\n",
       "        text-align: right;\n",
       "    }\n",
       "</style>\n",
       "<table border=\"1\" class=\"dataframe\">\n",
       "  <thead>\n",
       "    <tr style=\"text-align: right;\">\n",
       "      <th></th>\n",
       "      <th>ADMISSION_TYPE</th>\n",
       "      <th>INSURANCE</th>\n",
       "      <th>MARITAL_STATUS</th>\n",
       "      <th>ETHNICITY</th>\n",
       "      <th>GENDER</th>\n",
       "      <th>AGE</th>\n",
       "      <th>30_DAY_MORT</th>\n",
       "      <th>ICU</th>\n",
       "      <th>2ndarymalig</th>\n",
       "      <th>Abdomhernia</th>\n",
       "      <th>...</th>\n",
       "      <th>Urinyorgca</th>\n",
       "      <th>Uteruscancr</th>\n",
       "      <th>Varicosevn</th>\n",
       "      <th>Viralinfect</th>\n",
       "      <th>Whtblooddx</th>\n",
       "      <th>chf;nonhp</th>\n",
       "      <th>ecodes:motorvehicletraffic(mvt)</th>\n",
       "      <th>ecodes:otherspecified-nec</th>\n",
       "      <th>ecodes:transport-notmvt</th>\n",
       "      <th>guconganom</th>\n",
       "    </tr>\n",
       "  </thead>\n",
       "  <tbody>\n",
       "    <tr>\n",
       "      <th>0</th>\n",
       "      <td>EMERGENCY</td>\n",
       "      <td>Private</td>\n",
       "      <td>MARRIED</td>\n",
       "      <td>WHITE</td>\n",
       "      <td>F</td>\n",
       "      <td>6.0</td>\n",
       "      <td>0.0</td>\n",
       "      <td>MICU</td>\n",
       "      <td>0.0</td>\n",
       "      <td>0.0</td>\n",
       "      <td>...</td>\n",
       "      <td>0.0</td>\n",
       "      <td>0.0</td>\n",
       "      <td>0.0</td>\n",
       "      <td>0.0</td>\n",
       "      <td>0.0</td>\n",
       "      <td>0.0</td>\n",
       "      <td>0.0</td>\n",
       "      <td>0.0</td>\n",
       "      <td>0.0</td>\n",
       "      <td>0.0</td>\n",
       "    </tr>\n",
       "    <tr>\n",
       "      <th>1</th>\n",
       "      <td>ELECTIVE</td>\n",
       "      <td>Medicare</td>\n",
       "      <td>MARRIED</td>\n",
       "      <td>WHITE</td>\n",
       "      <td>M</td>\n",
       "      <td>7.0</td>\n",
       "      <td>0.0</td>\n",
       "      <td>CSRU</td>\n",
       "      <td>0.0</td>\n",
       "      <td>0.0</td>\n",
       "      <td>...</td>\n",
       "      <td>0.0</td>\n",
       "      <td>0.0</td>\n",
       "      <td>0.0</td>\n",
       "      <td>0.0</td>\n",
       "      <td>0.0</td>\n",
       "      <td>0.0</td>\n",
       "      <td>0.0</td>\n",
       "      <td>0.0</td>\n",
       "      <td>0.0</td>\n",
       "      <td>0.0</td>\n",
       "    </tr>\n",
       "    <tr>\n",
       "      <th>2</th>\n",
       "      <td>EMERGENCY</td>\n",
       "      <td>Medicare</td>\n",
       "      <td>MARRIED</td>\n",
       "      <td>WHITE</td>\n",
       "      <td>M</td>\n",
       "      <td>7.0</td>\n",
       "      <td>0.0</td>\n",
       "      <td>NONE</td>\n",
       "      <td>0.0</td>\n",
       "      <td>0.0</td>\n",
       "      <td>...</td>\n",
       "      <td>0.0</td>\n",
       "      <td>0.0</td>\n",
       "      <td>0.0</td>\n",
       "      <td>0.0</td>\n",
       "      <td>0.0</td>\n",
       "      <td>0.0</td>\n",
       "      <td>0.0</td>\n",
       "      <td>0.0</td>\n",
       "      <td>0.0</td>\n",
       "      <td>0.0</td>\n",
       "    </tr>\n",
       "    <tr>\n",
       "      <th>3</th>\n",
       "      <td>EMERGENCY</td>\n",
       "      <td>Private</td>\n",
       "      <td>SINGLE</td>\n",
       "      <td>WHITE</td>\n",
       "      <td>M</td>\n",
       "      <td>3.0</td>\n",
       "      <td>0.0</td>\n",
       "      <td>CCU</td>\n",
       "      <td>0.0</td>\n",
       "      <td>0.0</td>\n",
       "      <td>...</td>\n",
       "      <td>0.0</td>\n",
       "      <td>0.0</td>\n",
       "      <td>0.0</td>\n",
       "      <td>0.0</td>\n",
       "      <td>0.0</td>\n",
       "      <td>0.0</td>\n",
       "      <td>0.0</td>\n",
       "      <td>0.0</td>\n",
       "      <td>0.0</td>\n",
       "      <td>0.0</td>\n",
       "    </tr>\n",
       "    <tr>\n",
       "      <th>4</th>\n",
       "      <td>EMERGENCY</td>\n",
       "      <td>Private</td>\n",
       "      <td>MARRIED</td>\n",
       "      <td>WHITE</td>\n",
       "      <td>M</td>\n",
       "      <td>5.0</td>\n",
       "      <td>0.0</td>\n",
       "      <td>CCU</td>\n",
       "      <td>0.0</td>\n",
       "      <td>0.0</td>\n",
       "      <td>...</td>\n",
       "      <td>0.0</td>\n",
       "      <td>0.0</td>\n",
       "      <td>0.0</td>\n",
       "      <td>0.0</td>\n",
       "      <td>0.0</td>\n",
       "      <td>0.0</td>\n",
       "      <td>0.0</td>\n",
       "      <td>0.0</td>\n",
       "      <td>0.0</td>\n",
       "      <td>0.0</td>\n",
       "    </tr>\n",
       "  </tbody>\n",
       "</table>\n",
       "<p>5 rows × 290 columns</p>\n",
       "</div>"
      ],
      "text/plain": [
       "  ADMISSION_TYPE INSURANCE MARITAL_STATUS ETHNICITY GENDER  AGE  30_DAY_MORT  \\\n",
       "0      EMERGENCY   Private        MARRIED     WHITE      F  6.0          0.0   \n",
       "1       ELECTIVE  Medicare        MARRIED     WHITE      M  7.0          0.0   \n",
       "2      EMERGENCY  Medicare        MARRIED     WHITE      M  7.0          0.0   \n",
       "3      EMERGENCY   Private         SINGLE     WHITE      M  3.0          0.0   \n",
       "4      EMERGENCY   Private        MARRIED     WHITE      M  5.0          0.0   \n",
       "\n",
       "    ICU  2ndarymalig  Abdomhernia  ...  Urinyorgca  Uteruscancr  Varicosevn  \\\n",
       "0  MICU          0.0          0.0  ...         0.0          0.0         0.0   \n",
       "1  CSRU          0.0          0.0  ...         0.0          0.0         0.0   \n",
       "2  NONE          0.0          0.0  ...         0.0          0.0         0.0   \n",
       "3   CCU          0.0          0.0  ...         0.0          0.0         0.0   \n",
       "4   CCU          0.0          0.0  ...         0.0          0.0         0.0   \n",
       "\n",
       "   Viralinfect  Whtblooddx  chf;nonhp  ecodes:motorvehicletraffic(mvt)  \\\n",
       "0          0.0         0.0        0.0                              0.0   \n",
       "1          0.0         0.0        0.0                              0.0   \n",
       "2          0.0         0.0        0.0                              0.0   \n",
       "3          0.0         0.0        0.0                              0.0   \n",
       "4          0.0         0.0        0.0                              0.0   \n",
       "\n",
       "   ecodes:otherspecified-nec  ecodes:transport-notmvt  guconganom  \n",
       "0                        0.0                      0.0         0.0  \n",
       "1                        0.0                      0.0         0.0  \n",
       "2                        0.0                      0.0         0.0  \n",
       "3                        0.0                      0.0         0.0  \n",
       "4                        0.0                      0.0         0.0  \n",
       "\n",
       "[5 rows x 290 columns]"
      ]
     },
     "execution_count": 44,
     "metadata": {},
     "output_type": "execute_result"
    }
   ],
   "source": [
    "# convert each ccs category into its own column within the diagnosis table\n",
    "diag_expand = pd.get_dummies(diagnosis_df, prefix='', columns=['CCS CATEGORY DESCRIPTION'])\n",
    "# group by hospital admission and sum to create binary classification of categories present for each admission\n",
    "diag_expand = diag_expand.groupby('HADM_ID').sum()\n",
    "diag_expand.rename(columns=lambda x: x.strip('_'), inplace=True)\n",
    "\n",
    "# merge 282 ccs cat columns into admissions table, then fill NaN values with 0's (NaNs = admissions with no ICD9 codes)\n",
    "all_vars_df = pd.merge(admissions_df, diag_expand, on='HADM_ID', how='left')\n",
    "all_vars_df.fillna(0, inplace=True)\n",
    "# hospital admission ID can now be removed\n",
    "all_vars_df.drop('HADM_ID', axis=1, inplace=True)\n",
    "\n",
    "all_vars_df.head()"
   ]
  },
  {
   "cell_type": "code",
   "execution_count": 45,
   "metadata": {},
   "outputs": [],
   "source": [
    "# now, get dummies for the other 6 categorical variables - total variable columns should be 312 (+ label column)\n",
    "columns = ['ADMISSION_TYPE', 'INSURANCE', 'MARITAL_STATUS', 'ETHNICITY', 'GENDER', 'ICU']\n",
    "prefixes = ['ADMIT', 'INSURE', 'MARITAL', 'ETHNICITY', 'GENDER', 'ICU']\n",
    "all_vars_expand = pd.get_dummies(all_vars_df, prefix=prefixes, columns=columns)\n",
    "all_vars_expand = all_vars_expand.astype('uint8')"
   ]
  },
  {
   "cell_type": "code",
   "execution_count": 48,
   "metadata": {},
   "outputs": [],
   "source": [
    "# model_values = y, model_matrix = X\n",
    "model_values = all_vars_expand['30_DAY_MORT']\n",
    "model_matrix = all_vars_expand.drop('30_DAY_MORT', axis=1)"
   ]
  },
  {
   "cell_type": "markdown",
   "metadata": {},
   "source": [
    "### Training for Hyperparameters"
   ]
  },
  {
   "cell_type": "markdown",
   "metadata": {},
   "source": [
    "I have selected two model types to use for predictions - logistic regression and gradient boosting classification. I will first test using all variables to train the models, and will evaluate them using varying hyperparameters to select the best hyperparameter to use for making predictions."
   ]
  },
  {
   "cell_type": "markdown",
   "metadata": {},
   "source": [
    "#### Logistic Regression Model"
   ]
  },
  {
   "cell_type": "code",
   "execution_count": 53,
   "metadata": {},
   "outputs": [],
   "source": [
    "from sklearn.model_selection import train_test_split\n",
    "from sklearn.metrics import roc_auc_score, average_precision_score\n",
    "from sklearn.linear_model import LogisticRegression"
   ]
  },
  {
   "cell_type": "markdown",
   "metadata": {},
   "source": [
    "For the linear regression model, I will be training for the C hyperparameter (the inverse of lambda, the regularization strength). For varying C values, I will train the model to the model matrix, then examine the ROC and Precision Recall AUC scores to evaluate which value allows for the best predictions."
   ]
  },
  {
   "cell_type": "code",
   "execution_count": 54,
   "metadata": {},
   "outputs": [],
   "source": [
    "# function to fit, predict, and evaluate chosen model (from sklearn package)\n",
    "def train_and_evaluate_model(model, X_train, X_test, y_train, y_test):\n",
    "    # fit to training data\n",
    "    model.fit(X=X_train, y=y_train)\n",
    "    \n",
    "    # make predictions based on training and testing data\n",
    "    train_pred = model.predict_proba(X_train)[:, 1]\n",
    "    test_pred = model.predict_proba(X_test)[:, 1]\n",
    "    \n",
    "    # generate summary statistics for training and testing predictions\n",
    "    train_roc_auc = roc_auc_score(y_train, train_pred)\n",
    "    train_pr = average_precision_score(y_train, train_pred)\n",
    "    test_roc_auc = roc_auc_score(y_test, test_pred)\n",
    "    test_pr = average_precision_score(y_test, test_pred)\n",
    "    \n",
    "    return train_roc_auc, train_pr, test_roc_auc, test_pr"
   ]
  },
  {
   "cell_type": "code",
   "execution_count": 57,
   "metadata": {},
   "outputs": [],
   "source": [
    "# split data for use in evaluating models\n",
    "X_train, X_test, y_train, y_test = train_test_split(model_matrix.values, model_values.values, test_size = 0.2)"
   ]
  },
  {
   "cell_type": "code",
   "execution_count": 63,
   "metadata": {
    "collapsed": true
   },
   "outputs": [
    {
     "name": "stderr",
     "output_type": "stream",
     "text": [
      "C:\\Users\\sarah\\Anaconda3\\lib\\site-packages\\sklearn\\linear_model\\logistic.py:947: ConvergenceWarning: lbfgs failed to converge. Increase the number of iterations.\n",
      "  \"of iterations.\", ConvergenceWarning)\n"
     ]
    }
   ],
   "source": [
    "# run train_and_evaluate_model for different C's to choose the best one\n",
    "Cs = [0.001, 0.01, 0.1, 1.0, 10.0, 100.0]\n",
    "train_roc_scores = []\n",
    "train_pr_scores = []\n",
    "test_roc_scores = []\n",
    "test_pr_scores = []\n",
    "\n",
    "for C in Cs:\n",
    "    model = LogisticRegression(C=C, solver='lbfgs', max_iter=1000)\n",
    "    train_roc, train_pr, test_roc, test_pr = train_and_evaluate_model(model, X_train, X_test, y_train, y_test)\n",
    "    train_roc_scores.append(train_roc)\n",
    "    train_pr_scores.append(train_pr)\n",
    "    test_roc_scores.append(test_roc)\n",
    "    test_pr_scores.append(test_pr)"
   ]
  },
  {
   "cell_type": "markdown",
   "metadata": {},
   "source": [
    "Now that the logistic regression model has been trained and evaluated for 6 different C values, I will plot the model assessment metrics against these tested hyperparameter values to select the C value to use for my logistic regression predictor."
   ]
  },
  {
   "cell_type": "code",
   "execution_count": 64,
   "metadata": {},
   "outputs": [
    {
     "data": {
      "image/png": "[encoded data removed]",
      "text/plain": [
       "<Figure size 720x360 with 2 Axes>"
      ]
     },
     "metadata": {
      "needs_background": "light"
     },
     "output_type": "display_data"
    }
   ],
   "source": [
    "fig, axs = plt.subplots(1, 2, figsize=(10,5), constrained_layout=True)\n",
    "fig.suptitle('Model Assessment Metrics for Logistic Regression')\n",
    "\n",
    "axs[0].plot(Cs, train_roc_scores, label='train')\n",
    "axs[0].plot(Cs, test_roc_scores, label='test')\n",
    "axs[0].set_xlabel('log(C values)')\n",
    "axs[0].set_xscale('log')\n",
    "axs[0].set_title('AUC ROC Scores')\n",
    "axs[0].legend()\n",
    "\n",
    "axs[1].plot(Cs, train_pr_scores, label='train')\n",
    "axs[1].plot(Cs, test_pr_scores, label='test')\n",
    "axs[1].set_xlabel('log(C values)')\n",
    "axs[1].set_xscale('log')\n",
    "axs[1].set_title('AUC Precision-Recall Scores')\n",
    "axs[1].legend()\n",
    "\n",
    "plt.show()"
   ]
  },
  {
   "cell_type": "markdown",
   "metadata": {},
   "source": [
    "The selected hyperparameter used should maximize the test scores while minimizing the difference between the train and test scores (to prevent overfitting towards training data). From the graphs above, the hyperparameter value which best suits the data is C = 1.0. This value will now be used to fit the model again and generate summary statistics (accuracy, ROC AUC, and PR AUC) for the logistic regression model."
   ]
  },
  {
   "cell_type": "code",
   "execution_count": 111,
   "metadata": {},
   "outputs": [
    {
     "name": "stdout",
     "output_type": "stream",
     "text": [
      "train: 0.8796118721461187, test: 0.8741667427632179\n",
      "roc_auc: 0.8580843954682245, pr_auc: 0.5143492227816958\n"
     ]
    }
   ],
   "source": [
    "best_log_reg = LogisticRegression(C=1.0, solver='lbfgs', max_iter=1000)\n",
    "best_log_reg.fit(X=X_train, y=y_train)\n",
    "\n",
    "train_accuracy = best_log_reg.score(X_train, y_train)\n",
    "test_accuracy = best_log_reg.score(X_test, y_test)\n",
    "\n",
    "print('train: {}, test: {}'.format(train_accuracy, test_accuracy))\n",
    "\n",
    "test_pred = best_log_reg.predict_proba(X_test)[:, 1]\n",
    "    \n",
    "test_roc_auc = roc_auc_score(y_test, test_pred)\n",
    "test_pr = average_precision_score(y_test, test_pred)\n",
    "\n",
    "print('roc_auc: {}, pr_auc: {}'.format(test_roc_auc, test_pr))"
   ]
  },
  {
   "cell_type": "markdown",
   "metadata": {},
   "source": [
    "#### Gradient Boosting Classifier"
   ]
  },
  {
   "cell_type": "code",
   "execution_count": 158,
   "metadata": {},
   "outputs": [],
   "source": [
    "from sklearn.ensemble import GradientBoostingClassifier"
   ]
  },
  {
   "cell_type": "markdown",
   "metadata": {},
   "source": [
    "The other model I will be training the data on is the gradient boosting classifier. This model type is generally able to account for a larger number of variables by using a decision tree model. It is a popular model choice for Kaggle data science competitions. My methodology for training and evaluating the gradient boosting classifier will be the same as that for the logistic regression model, however, I will be testing a different parameter - the maximum tree depth that the classifier is allowed to create when generating a decision tree for the model."
   ]
  },
  {
   "cell_type": "code",
   "execution_count": 76,
   "metadata": {},
   "outputs": [],
   "source": [
    "# split data for use in evaluating models\n",
    "X_train, X_test, y_train, y_test = train_test_split(model_matrix.values, model_values.values, test_size = 0.2)"
   ]
  },
  {
   "cell_type": "code",
   "execution_count": 82,
   "metadata": {},
   "outputs": [],
   "source": [
    "# run train_and_evaluate_model for different tree depths to choose the best one\n",
    "depths = [2, 3, 4, 5, 6, 7, 8]\n",
    "train_roc_scores = []\n",
    "train_pr_scores = []\n",
    "test_roc_scores = []\n",
    "test_pr_scores = []\n",
    "\n",
    "for depth in depths:\n",
    "    model = GradientBoostingClassifier(max_depth=depth)\n",
    "    train_roc, train_pr, test_roc, test_pr = train_and_evaluate_model(model, X_train, X_test, y_train, y_test)\n",
    "    train_roc_scores.append(train_roc)\n",
    "    train_pr_scores.append(train_pr)\n",
    "    test_roc_scores.append(test_roc)\n",
    "    test_pr_scores.append(test_pr)"
   ]
  },
  {
   "cell_type": "code",
   "execution_count": 83,
   "metadata": {},
   "outputs": [
    {
     "data": {
      "image/png": "[encoded data removed]",
      "text/plain": [
       "<Figure size 720x360 with 2 Axes>"
      ]
     },
     "metadata": {
      "needs_background": "light"
     },
     "output_type": "display_data"
    }
   ],
   "source": [
    "fig, axs = plt.subplots(1, 2, figsize=(10,5), constrained_layout=True)\n",
    "fig.suptitle('Model Assessment Metrics for Gradient Boosting Classifier')\n",
    "\n",
    "axs[0].plot(depths, train_roc_scores, label='train')\n",
    "axs[0].plot(depths, test_roc_scores, label='test')\n",
    "axs[0].set_xlabel('Maximum Depths')\n",
    "axs[0].set_title('AUC ROC Scores')\n",
    "axs[0].legend()\n",
    "\n",
    "axs[1].plot(depths, train_pr_scores, label='train')\n",
    "axs[1].plot(depths, test_pr_scores, label='test')\n",
    "axs[1].set_xlabel('Maximum Depths')\n",
    "axs[1].set_title('AUC Precision-Recall Scores')\n",
    "axs[1].legend()\n",
    "\n",
    "plt.show()"
   ]
  },
  {
   "cell_type": "markdown",
   "metadata": {},
   "source": [
    "The AUC ROC and PR scores for the Gradient Boosting Classifer are in general better than those of the Logistic Regression model. ROC and PR scores for the model increase with increased tree depths (allowing for more stratification of the variables), however, after a max depth of 4, the increase for the training and testing data sets begins the diverge. This indicates that after a max depth of 4, the gradient boosting classifier is more likely to begin overfitting to the training set. Therefore, I will be using a max depth of 4 for the gradient boosting classifier. The model summary statistics for using a gradient boost classifier with max depth of 4 are printed below."
   ]
  },
  {
   "cell_type": "code",
   "execution_count": 113,
   "metadata": {},
   "outputs": [
    {
     "name": "stdout",
     "output_type": "stream",
     "text": [
      "train: 0.8875114155251141, test: 0.878915167564606\n",
      "roc_auc: 0.8618125165958576, pr_auc: 0.5323643924158833\n"
     ]
    }
   ],
   "source": [
    "best_boost = GradientBoostingClassifier(max_depth=4)\n",
    "best_boost.fit(X=X_train, y=y_train)\n",
    "\n",
    "train_accuracy = best_boost.score(X_train, y_train)\n",
    "test_accuracy = best_boost.score(X_test, y_test)\n",
    "\n",
    "print('train: {}, test: {}'.format(train_accuracy, test_accuracy))\n",
    "\n",
    "test_pred = best_boost.predict_proba(X_test)[:, 1]\n",
    "    \n",
    "test_roc_auc = roc_auc_score(y_test, test_pred)\n",
    "test_pr = average_precision_score(y_test, test_pred)\n",
    "\n",
    "print('roc_auc: {}, pr_auc: {}'.format(test_roc_auc, test_pr))"
   ]
  },
  {
   "cell_type": "markdown",
   "metadata": {},
   "source": [
    "### Variable Selection with 5-Fold Cross Validation"
   ]
  },
  {
   "cell_type": "markdown",
   "metadata": {},
   "source": [
    "A model with 312 unique variables may be prohibitive to understanding by the human eye. Therefore, I will be using the SelectKBest feature selection tool from sklearn to select the 50 most impactful variables in model training to assess the model metrics when only those 50 variables are used. To find the 50 most impactful variables, I will perform 5-fold cross validation on my training set. Within each fold, I will split the fold into training and testing data, select the 50 best performing variables, and train the model on the data using only those 50 variables. After all 5 folds have run, I will determine which fold had the best performance and use that fold's variable selection to train the entire training data set, and evaulate on the withheld test set."
   ]
  },
  {
   "cell_type": "code",
   "execution_count": 92,
   "metadata": {},
   "outputs": [],
   "source": [
    "# Use stratifed K-folds to approximate equal proportions of mortality rate in each fold\n",
    "from sklearn.model_selection import StratifiedKFold\n",
    "from sklearn.feature_selection import SelectKBest, mutual_info_classif"
   ]
  },
  {
   "cell_type": "markdown",
   "metadata": {},
   "source": [
    "#### Logistic Regression Model (C=1.0)"
   ]
  },
  {
   "cell_type": "markdown",
   "metadata": {},
   "source": [
    "First, I will perform the 5-fold validation variable selection using the logistic regression model designed above with C = 1.0."
   ]
  },
  {
   "cell_type": "code",
   "execution_count": 91,
   "metadata": {},
   "outputs": [],
   "source": [
    "# train-test split to save data for final evaluation\n",
    "X_train, X_test, y_train, y_test = train_test_split(model_matrix.values, model_values.values, test_size = 0.2)"
   ]
  },
  {
   "cell_type": "code",
   "execution_count": 95,
   "metadata": {},
   "outputs": [],
   "source": [
    "skf = StratifiedKFold(n_splits=5) # creates 5 stratified folds from the training data\n",
    "variable_indices = []\n",
    "test_roc_scores = []\n",
    "\n",
    "for train_index, test_index in skf.split(X_train, y_train):\n",
    "    \n",
    "    # create train and test split for fold\n",
    "    X_train_k, X_test_k = X_train[train_index], X_train[test_index]\n",
    "    y_train_k, y_test_k = y_train[train_index], y_train[test_index]\n",
    "    \n",
    "    # now, perform variable selection on fold\n",
    "    selector = SelectKBest(mutual_info_classif, 50)\n",
    "    selector.fit(X=X_train_k, y=y_train_k)\n",
    "    \n",
    "    # store selected variables for later fitting of whole model\n",
    "    variable_indices.append(selector.get_support(indices=True))\n",
    "    \n",
    "    # reduce train and test sets to selected variables\n",
    "    selector.transform(X_train_k)\n",
    "    selector.transform(X_test_k)\n",
    "    \n",
    "    # fit and evaluate Logistic Regression for fold\n",
    "    model = LogisticRegression(C=1.0, solver='lbfgs', max_iter=1000)\n",
    "    train_roc, train_pr, test_roc, test_pr = train_and_evaluate_model(model, X_train_k, X_test_k, y_train_k, y_test_k)\n",
    "    test_roc_scores.append(test_roc)"
   ]
  },
  {
   "cell_type": "code",
   "execution_count": 97,
   "metadata": {},
   "outputs": [
    {
     "data": {
      "image/png": "[encoded data removed]",
      "text/plain": [
       "<Figure size 360x360 with 1 Axes>"
      ]
     },
     "metadata": {
      "needs_background": "light"
     },
     "output_type": "display_data"
    }
   ],
   "source": [
    "fig, axs = plt.subplots(1, 1, figsize=(5,5))\n",
    "\n",
    "axs.plot(range(5), test_roc_scores)\n",
    "axs.set_xlabel('K-Fold')\n",
    "axs.set_title('AUC ROC Scores')\n",
    "\n",
    "plt.show()"
   ]
  },
  {
   "cell_type": "markdown",
   "metadata": {},
   "source": [
    "The model performed the best (had the highest AUC ROC score) using the variables selected in the 5th fold. We will use those variables to train the entire data set and evaulate the model's performance. The 50 variables used are the following:"
   ]
  },
  {
   "cell_type": "code",
   "execution_count": 98,
   "metadata": {},
   "outputs": [
    {
     "data": {
      "text/plain": [
       "Index(['AGE', '2ndarymalig', 'Acqfootdef', 'Acrenlfail', 'AcuteCVD',\n",
       "       'Adjustmentdisorders', 'Adltrespfl', 'Asppneumon', 'Bnignutneo',\n",
       "       'Bone/ctcncr', 'Cardiaarrst', 'Coag/hemrdx', 'Complicproc',\n",
       "       'Coronathero', 'Dysrhythmia', 'ECodes:Drowning/submersion',\n",
       "       'ECodes:Fall', 'ECodes:Otherspecifiedandclassifiable',\n",
       "       'ECodes:Poisoning', 'ECodes:Struckby-against', 'Esophgealdx',\n",
       "       'Eyeinfectn', 'Fatigue', 'Fluid/elcdx', 'Hemorrpreg', 'Htncomplicn',\n",
       "       'Hyperlipidem', 'Inducabortn', 'Influenza', 'Intestinfct',\n",
       "       'Maligneopls', 'Otdxbladdr', 'OtherCVD', 'Othereyedx', 'Othliverdx',\n",
       "       'Parkinson-s', 'Pleurisy', 'Pneumonia', 'Pulmhartdx', 'Septicemia',\n",
       "       'Shock', 'Uteruscancr', 'ADMIT_ELECTIVE', 'ADMIT_EMERGENCY',\n",
       "       'ADMIT_URGENT', 'INSURE_Medicare', 'INSURE_Private', 'MARITAL_WIDOWED',\n",
       "       'GENDER_M', 'ICU_MICU'],\n",
       "      dtype='object')"
      ]
     },
     "execution_count": 98,
     "metadata": {},
     "output_type": "execute_result"
    }
   ],
   "source": [
    "# view selected variables\n",
    "model_matrix.columns[variable_indices[4]]"
   ]
  },
  {
   "cell_type": "markdown",
   "metadata": {},
   "source": [
    "It is unsurprising to see Age as a factor (as explored during data anaylsis, patients experiencing 30 day mortality are skewed towards higher age brackets). It is interesting to note that all three admission type categories were present in the most predictive variables, indicating that admission type may be particularly predictive."
   ]
  },
  {
   "cell_type": "code",
   "execution_count": 114,
   "metadata": {},
   "outputs": [
    {
     "name": "stdout",
     "output_type": "stream",
     "text": [
      "train: 0.8702511415525114, test: 0.8647612090220071\n",
      "roc_auc: 0.8282112638852008, pr_auc: 0.4331297151306382\n"
     ]
    }
   ],
   "source": [
    "# select best performing variables, transform the entire training set to fit the model, then evaluate\n",
    "best_vars_X_train = X_train[:, variable_indices[4]]\n",
    "best_vars_X_test = X_test[:, variable_indices[4]]\n",
    "\n",
    "limit_lr_model = LogisticRegression(C=1.0, solver='lbfgs', max_iter=1000)\n",
    "limit_lr_model.fit(X=best_vars_X_train, y=y_train)\n",
    "\n",
    "train_accuracy = limit_lr_model.score(best_vars_X_train, y_train)\n",
    "test_accuracy = limit_lr_model.score(best_vars_X_test, y_test)\n",
    "\n",
    "print('train: {}, test: {}'.format(train_accuracy, test_accuracy))\n",
    "\n",
    "test_pred = limit_lr_model.predict_proba(best_vars_X_test)[:, 1]\n",
    "    \n",
    "test_roc_auc = roc_auc_score(y_test, test_pred)\n",
    "test_pr = average_precision_score(y_test, test_pred)\n",
    "\n",
    "print('roc_auc: {}, pr_auc: {}'.format(test_roc_auc, test_pr))"
   ]
  },
  {
   "cell_type": "markdown",
   "metadata": {},
   "source": [
    "Utilizing only 50 variables decreases all evaluation metrics from the original logistic regression model. The accuracy and ROC score are only decreased slightly (these scores are generally higher for unbalanced datasets such as this one), but the PR score dipped significantly with the decreased number of variables."
   ]
  },
  {
   "cell_type": "markdown",
   "metadata": {},
   "source": [
    "#### Gradient Boosting Classifier (max_depth = 4)"
   ]
  },
  {
   "cell_type": "markdown",
   "metadata": {},
   "source": [
    "Now, 5-fold cross-validation will be performed on variable selection for the Gradient Boosting Classifier with max depth of 4."
   ]
  },
  {
   "cell_type": "code",
   "execution_count": 145,
   "metadata": {},
   "outputs": [],
   "source": [
    "# train-test split to save data for final evaluation\n",
    "X_train, X_test, y_train, y_test = train_test_split(model_matrix.values, model_values.values, test_size = 0.2)"
   ]
  },
  {
   "cell_type": "code",
   "execution_count": 104,
   "metadata": {},
   "outputs": [],
   "source": [
    "skf = StratifiedKFold(n_splits=5) # creates 5 stratified folds from the training data\n",
    "variable_indices = []\n",
    "test_roc_scores = []\n",
    "\n",
    "for train_index, test_index in skf.split(X_train, y_train):\n",
    "    \n",
    "    # create train and test split for fold\n",
    "    X_train_k, X_test_k = X_train[train_index], X_train[test_index]\n",
    "    y_train_k, y_test_k = y_train[train_index], y_train[test_index]\n",
    "    \n",
    "    # now, perform variable selection on fold\n",
    "    selector = SelectKBest(mutual_info_classif, 50)\n",
    "    selector.fit(X=X_train_k, y=y_train_k)\n",
    "    \n",
    "    # store selected variables for later fitting of whole model\n",
    "    variable_indices.append(selector.get_support(indices=True))\n",
    "    \n",
    "    # reduce train and test sets to selected variables\n",
    "    selector.transform(X_train_k)\n",
    "    selector.transform(X_test_k)\n",
    "    \n",
    "    # fit and evaluate Gradient Boost for fold\n",
    "    model = GradientBoostingClassifier(max_depth=4)\n",
    "    train_roc, train_pr, test_roc, test_pr = train_and_evaluate_model(model, X_train_k, X_test_k, y_train_k, y_test_k)\n",
    "    test_roc_scores.append(test_roc)"
   ]
  },
  {
   "cell_type": "code",
   "execution_count": 106,
   "metadata": {},
   "outputs": [
    {
     "data": {
      "image/png": "[encoded data removed]",
      "text/plain": [
       "<Figure size 360x360 with 1 Axes>"
      ]
     },
     "metadata": {
      "needs_background": "light"
     },
     "output_type": "display_data"
    }
   ],
   "source": [
    "fig, axs = plt.subplots(1, 1, figsize=(5,5))\n",
    "\n",
    "axs.plot(range(5), test_roc_scores)\n",
    "axs.set_xlabel('K-Fold')\n",
    "axs.set_title('AUC ROC Scores')\n",
    "\n",
    "plt.show()"
   ]
  },
  {
   "cell_type": "markdown",
   "metadata": {},
   "source": [
    "The fold which provided variable selection that resulted in the best performing model was the first fold. The variables selected for model prediction from the first fold were as follows:"
   ]
  },
  {
   "cell_type": "code",
   "execution_count": 107,
   "metadata": {},
   "outputs": [
    {
     "data": {
      "text/plain": [
       "Index(['AGE', '2ndarymalig', 'Acrenlfail', 'AcuteCVD', 'Adltrespfl', 'Allergy',\n",
       "       'Artembolism', 'Asppneumon', 'Backproblem', 'Bone/ctcncr', 'COPD',\n",
       "       'Cardiaarrst', 'Coag/hemrdx', 'Dysrhythmia', 'ECodes:Cut/pierce',\n",
       "       'ECodes:Struckby-against', 'Earlylabor', 'Esophgealdx', 'Fluid/elcdx',\n",
       "       'Fxleg', 'Hd/nckcancr', 'Hrtvalvedx', 'Hyperlipidem', 'Intestinfct',\n",
       "       'Leukemias', 'Malgenitca', 'Mouthdx', 'Nervcongan', 'Otcirculdx',\n",
       "       'OtheredCNS', 'Othliverdx', 'Pancreasdx', 'Parkinson-s', 'Pleurisy',\n",
       "       'Prolapse', 'Screeningandhistoryofmentalhealthan', 'Septicemia',\n",
       "       'Shock', 'Ulcerskin', 'chf;nonhp', 'ADMIT_ELECTIVE', 'ADMIT_EMERGENCY',\n",
       "       'INSURE_Medicare', 'INSURE_Private', 'MARITAL_DIVORCED',\n",
       "       'MARITAL_MARRIED', 'MARITAL_UNKNOWN', 'ETHNICITY_OTHER/UNKNOWN',\n",
       "       'ICU_CSRU', 'ICU_NICU'],\n",
       "      dtype='object')"
      ]
     },
     "execution_count": 107,
     "metadata": {},
     "output_type": "execute_result"
    }
   ],
   "source": [
    "# view selected variables\n",
    "model_matrix.columns[variable_indices[0]]"
   ]
  },
  {
   "cell_type": "markdown",
   "metadata": {},
   "source": [
    "Nearly half (24) of the variables selected by the top performing fold for the Gradient Boosting model were also selected by the top performing fold of the Logistic Regression model. These 24 variables (age, 2ndarymalig, Acrenlfail, AcuteCVD, Adltrespfl, Asppneumon, Bone/ctcncr, Cardiaarrst, Coag/hemrdx, Dysrhythmia, ECodes:Struckby-against, Esophgealdx, Fluid/elcdx, Hyperlipidem, Intestinfct, Othliverdx, Parkinson-s, Pleurisy, Septicemia, Shock, elective admissions, emergency admissions, medicare insurance, and private insurance) may be especially predictive for 30-day mortality."
   ]
  },
  {
   "cell_type": "code",
   "execution_count": 115,
   "metadata": {},
   "outputs": [
    {
     "name": "stdout",
     "output_type": "stream",
     "text": [
      "train: 0.8807762557077625, test: 0.8699662131312209\n",
      "roc_auc: 0.8401447227938573, pr_auc: 0.4667658564300602\n"
     ]
    }
   ],
   "source": [
    "# select best performing variables, transform the entire training set to fit the model, then evaluate\n",
    "best_vars_X_train = X_train[:, variable_indices[0]]\n",
    "best_vars_X_test = X_test[:, variable_indices[0]]\n",
    "\n",
    "limit_gb_model = GradientBoostingClassifier(max_depth=4)\n",
    "limit_gb_model.fit(X=best_vars_X_train, y=y_train)\n",
    "\n",
    "train_accuracy = limit_gb_model.score(best_vars_X_train, y_train)\n",
    "test_accuracy = limit_gb_model.score(best_vars_X_test, y_test)\n",
    "\n",
    "print('train: {}, test: {}'.format(train_accuracy, test_accuracy))\n",
    "\n",
    "test_pred = limit_gb_model.predict_proba(best_vars_X_test)[:, 1]\n",
    "    \n",
    "test_roc_auc = roc_auc_score(y_test, test_pred)\n",
    "test_pr = average_precision_score(y_test, test_pred)\n",
    "\n",
    "print('roc_auc: {}, pr_auc: {}'.format(test_roc_auc, test_pr))"
   ]
  },
  {
   "cell_type": "markdown",
   "metadata": {},
   "source": [
    "The model statistics for performing gradient boost classification on the top 50 selected variables again decrease from the performance of the model on all variables. The primary area of decrease is once again the precision recall AUC score. However, training the Gradient Boosting classifier on 50 variables still performs better than trianing the logistic regression model on 50 variables."
   ]
  },
  {
   "cell_type": "markdown",
   "metadata": {},
   "source": [
    "### Summary Statistics for Models"
   ]
  },
  {
   "cell_type": "markdown",
   "metadata": {},
   "source": [
    "As shown in Table 1, the Gradient Boosting Classifier consistently performs better than the logisitic regression model. Utilizing only 50 variables to train the models, while perhaps resulting in an easier to understand model, significantly decreases the quality of the model. This effect is primarily seen the precision recall score, due to the uneven distribution of dataset entries (~86% no 30-day mortality). When utilizing only 50 variables, the models perform under the precision-recall benchmark of 0.500."
   ]
  },
  {
   "cell_type": "markdown",
   "metadata": {},
   "source": [
    "Table 1: Metrics for Tested Models\n",
    "\n",
    "| Model Type | Test Accuracy | ROC AUC Score | PR AUC Score |\n",
    "| --- | --- | --- | --- |\n",
    "| Logistic Regression (All Vars) | 0.874 | 0.858 | 0.514 |\n",
    "| Gradient Boosting (All Vars) | 0.879 | 0.862 | 0.532 |\n",
    "| Logistic Regression (Best 50 Vars) | 0.865 | 0.828 | 0.433 |\n",
    "| Gradient Boosting (Best 50 Vars) | 0.870 | 0.840 | 0.467 |\n"
   ]
  },
  {
   "cell_type": "markdown",
   "metadata": {},
   "source": [
    "To further visualize the data represented above for the Logistic Regression and Gradient Boosting models (with all variables considered), below is a plot of the ROC curves and PR curves for each model, vs. the benchmark line for each respective curve."
   ]
  },
  {
   "cell_type": "code",
   "execution_count": 148,
   "metadata": {},
   "outputs": [],
   "source": [
    "from sklearn.metrics import roc_curve, precision_recall_curve"
   ]
  },
  {
   "cell_type": "code",
   "execution_count": 154,
   "metadata": {
    "scrolled": false
   },
   "outputs": [
    {
     "data": {
      "image/png": "[encoded data removed]",
      "text/plain": [
       "<Figure size 720x360 with 2 Axes>"
      ]
     },
     "metadata": {
      "needs_background": "light"
     },
     "output_type": "display_data"
    }
   ],
   "source": [
    "spec1, sens1, thresholds = roc_curve(y_test, best_log_reg.predict_proba(X_test)[:, 1])\n",
    "spec2, sens2, thresholds = roc_curve(y_test, best_boost.predict_proba(X_test)[:, 1])\n",
    "\n",
    "pr1, rec1, thresholds = precision_recall_curve(y_test, best_log_reg.predict_proba(X_test)[:, 1])\n",
    "pr2, rec2, thresholds = precision_recall_curve(y_test, best_boost.predict_proba(X_test)[:, 1])\n",
    "\n",
    "fig, axs = plt.subplots(1, 2, figsize=(10,5), constrained_layout=True)\n",
    "fig.suptitle('Summary Curves for Models')\n",
    "\n",
    "axs[0].plot(spec1, sens1, label='Log Reg')\n",
    "axs[0].plot(spec2, sens2, label='G Boost')\n",
    "axs[0].plot([1, 0],[1, 0], linestyle = \"--\", label='Chance')\n",
    "axs[0].set_xlabel('1 - Specificity')\n",
    "axs[0].set_ylabel('Sensitivity')\n",
    "axs[0].set_title('Receiver Operating Curve')\n",
    "axs[0].legend()\n",
    "\n",
    "axs[1].plot(pr1, rec1, label='Log Reg')\n",
    "axs[1].plot(pr2, rec2, label='G Boost')\n",
    "axs[1].plot([0, 1], [0.5, 0.5], linestyle= \"--\", label='Chance')\n",
    "axs[1].set_xlabel('Precision')\n",
    "axs[1].set_ylabel('Recall')\n",
    "axs[1].set_title('Precision-Recall Curve')\n",
    "axs[1].legend()\n",
    "\n",
    "plt.show()"
   ]
  },
  {
   "cell_type": "markdown",
   "metadata": {},
   "source": [
    "As confirmed by the AUC scores, the plots above demonstrate consistently higher performance for the Gradient Boosting Classifier than the Logistic Regression model."
   ]
  },
  {
   "cell_type": "markdown",
   "metadata": {},
   "source": [
    "To examine the calibration of the models, calibration curves were plotted for each. As show below, the models are generally fairly well calibrated, falling closely along the balanced line. The logistic regression curve tends to overestimate risk, at times giving a higher probability of 30-day mortality than is empirically expected. The gradient boosting classifier, on the other hand, tends to underestimate risk, generally giving a lower probability of 30-day mortality than is generally expected. Therefore, when erring on the side of caution (as is generally preferred when mortality is a factor), the logistic regression model may be better calibrated towards making predictions."
   ]
  },
  {
   "cell_type": "code",
   "execution_count": 155,
   "metadata": {},
   "outputs": [],
   "source": [
    "from sklearn.calibration import calibration_curve"
   ]
  },
  {
   "cell_type": "code",
   "execution_count": 157,
   "metadata": {},
   "outputs": [
    {
     "data": {
      "image/png": "[encoded data removed]",
      "text/plain": [
       "<Figure size 360x360 with 1 Axes>"
      ]
     },
     "metadata": {
      "needs_background": "light"
     },
     "output_type": "display_data"
    }
   ],
   "source": [
    "y_axis1, x_axis1 = calibration_curve(y_test, best_log_reg.predict_proba(X_test)[:, 1], n_bins = 10)\n",
    "y_axis2, x_axis2 = calibration_curve(y_test, best_boost.predict_proba(X_test)[:, 1], n_bins = 10)\n",
    "\n",
    "fig, axs = plt.subplots(1, 1, figsize=(5,5))\n",
    "\n",
    "axs.scatter(x_axis1, y_axis1, label='Log Reg')\n",
    "axs.scatter(x_axis2, y_axis2, label='G Boost')\n",
    "axs.plot([1, 0],[1, 0], linestyle = \"--\", label='Balance')\n",
    "axs.set_xlabel('Predicted Probability')\n",
    "axs.set_ylabel('Empirical Probability')\n",
    "axs.set_title('Model Calibration Curves')\n",
    "axs.legend()\n",
    "\n",
    "plt.show()"
   ]
  },
  {
   "cell_type": "markdown",
   "metadata": {},
   "source": [
    "## Suggestions"
   ]
  },
  {
   "cell_type": "markdown",
   "metadata": {},
   "source": [
    "Considering the results from the Modeling section, the best model to use (of those examined) to predict 30-Day Mortality at the time of hospital admission is the Gradient Boosting Classifier with all 312 variables considered. However, the Gradient Boosting Classifier still does not provide a significant improvement over a benchmark of selecting the non-mortality option for each patients. This benchmark would have 0.864 accuracy and 0.500 AUC precision-recall. My model has an accuracy of 0.879 and a 0.532 AUC precision-recall, meaning it performs only slightly better than this basic benchmark. Similarly to the benchmark, my model also tends to under-predict 30-day mortality, being slightly over calibrated to the non-mortality case. If this model were to enter production, I would recommend that the Gradient Boosting Classifier be used, but that data outside of that obtained at the start of the admission be used. One method that would generate more numerical variables of significance would be to include chart data for the patient within the first 24 hours of their admission. Chart data includes variables of interest such as patient heart rate and blood pressure, and the minimum, mean, and maximum of these values may prove predictive. Utilizing the first 24 hours of a patients data would also open up common testing results to being used in the model matrix. Including more variables is likely to generate a model that is more predictive to the general hospital admission population. Therefore, if I were to incorporate this model into hospital use, I would train it on more variables (primarily numeric chart/lab data) that may provide heavier influence on 30-day mortality. Then, after the model was fit to those variables, for each unique admission the values for each variable could be keyed in after 24 hours and the model would predict the likelihood of patient mortality within the subsequent 29 days."
   ]
  },
  {
   "cell_type": "markdown",
   "metadata": {},
   "source": [
    "## Conclusions"
   ]
  },
  {
   "cell_type": "markdown",
   "metadata": {},
   "source": [
    "The aim for this project was to create a predictive model that would take in static patient variables obtained at the time of admission and predict whether the patient was likely to die within 30 days of their admission time. Utilizing the MIMIC-III dataset, I was able to identify 8 general variable categories (admission type, insurance type, marital status, age, ethnicity, gender, ICU stay type, and unique CCS categories diagnosed) that generated 312 unique features of a patient admission. I then trained two different popular model types on this data to predict 30-day mortality for patients, and was able to generate results slighlty improved from a general benchmark that predicted no patients would experience 30-day mortality. The features used in this classification task appear to not be predictive enough to generate significant model quality (based on model metrics of AUC ROC and precision-recall scores), so a suggestion for implementation of this task in true hospitals would be to use data from the first 24 hours of admissions. This would still allow for enough time to evaluate patient likelihood of 30-day mortality prior to death (allowing hospitals the time to improve their standard of care for that patient), and would generate more features for the gradient boost classification model to predict on - features which are likely to be more predictive of mortality than those encapsulated by the categorical data acquired on admission. One barrier to this model's success, even with including data from the first 24 hours of a patients hospital stay, would be encouraging doctors to accept the model's predictivity. Even if the metrics of the model were greatly improved by using these additional factors, humans are generally unlikely to accept that entering patient data obtained from static and chart/lab sources within the first 24 hours of a patient stay will be more predictive of mortality than a doctors prognosis. This sort of barrier will continue to provide challenges for the data science in healthcare until major breakthroughs are made."
   ]
  },
  {
   "cell_type": "markdown",
   "metadata": {},
   "source": [
    "## Resources"
   ]
  },
  {
   "cell_type": "markdown",
   "metadata": {},
   "source": [
    "Gao, Michael. (2020). HW2 - Pandas and ICD9-Codes. Duke University BME590 Data Science and Health.\n",
    "\n",
    "H-CUP. (2017, March 6). Clinical Classifications Software (CCS) for ICD-9-CM. Retrieved from https://hcup-us.ahrq.gov/toolssoftware/ccs/ccs.jsp\n",
    "\n",
    "Johnson, A., Pollard, T., & Mark, R. (2016, September 4). MIMIC-III Clinical Database. Retrieved from https://physionet.org/content/mimiciii/1.4/\n",
    "\n",
    "Johnson, A. E. W., Pollard, T. J., Shen, L., Lehman, L.-wei H., Feng, M., Ghassemi, M., … Mark, R. G. (2016, May 24). MIMIC-III, a freely accessible critical care database. Retrieved from https://www.nature.com/articles/sdata201635\n",
    "\n",
    "Medicare.gov. (n.d.). 30-day death (mortality) rates. Retrieved from https://www.medicare.gov/hospitalcompare/Data/Death-rates.html"
   ]
  }
 ],
 "metadata": {
  "kernelspec": {
   "display_name": "Python 3",
   "language": "python",
   "name": "python3"
  },
  "language_info": {
   "codemirror_mode": {
    "name": "ipython",
    "version": 3
   },
   "file_extension": ".py",
   "mimetype": "text/x-python",
   "name": "python",
   "nbconvert_exporter": "python",
   "pygments_lexer": "ipython3",
   "version": "3.7.3"
  }
 },
 "nbformat": 4,
 "nbformat_minor": 2
}
